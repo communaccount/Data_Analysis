{
 "cells": [
  {
   "cell_type": "markdown",
   "id": "advanced-compound",
   "metadata": {},
   "source": [
    "# Data analysis project : Energy"
   ]
  },
  {
   "cell_type": "markdown",
   "id": "durable-mailing",
   "metadata": {},
   "source": [
    "Written by Julien Samuel, Mayuxiang Chen and Jolan Kerrien"
   ]
  },
  {
   "cell_type": "code",
   "execution_count": 1,
   "id": "endangered-township",
   "metadata": {},
   "outputs": [],
   "source": [
    "import numpy as np\n",
    "from scipy import stats\n",
    "import pandas as pd\n",
    "#Ploting librairies:\n",
    "import matplotlib.pyplot as plt\n",
    "import seaborn as sns\n",
    "#linear regression\n",
    "from sklearn.model_selection import train_test_split\n",
    "from sklearn.linear_model import LinearRegression"
   ]
  },
  {
   "cell_type": "markdown",
   "id": "magnetic-warehouse",
   "metadata": {},
   "source": [
    "## 1) Graphical Representation of all the variables with respect to the target + Computing the correlation"
   ]
  },
  {
   "cell_type": "code",
   "execution_count": 2,
   "id": "ongoing-contact",
   "metadata": {},
   "outputs": [
    {
     "data": {
      "text/html": [
       "<div>\n",
       "<style scoped>\n",
       "    .dataframe tbody tr th:only-of-type {\n",
       "        vertical-align: middle;\n",
       "    }\n",
       "\n",
       "    .dataframe tbody tr th {\n",
       "        vertical-align: top;\n",
       "    }\n",
       "\n",
       "    .dataframe thead th {\n",
       "        text-align: right;\n",
       "    }\n",
       "</style>\n",
       "<table border=\"1\" class=\"dataframe\">\n",
       "  <thead>\n",
       "    <tr style=\"text-align: right;\">\n",
       "      <th></th>\n",
       "      <th>X1</th>\n",
       "      <th>X2</th>\n",
       "      <th>X3</th>\n",
       "      <th>X4</th>\n",
       "      <th>X5</th>\n",
       "      <th>X6</th>\n",
       "      <th>X7</th>\n",
       "      <th>X8</th>\n",
       "      <th>Y1</th>\n",
       "      <th>Y2</th>\n",
       "    </tr>\n",
       "  </thead>\n",
       "  <tbody>\n",
       "    <tr>\n",
       "      <th>0</th>\n",
       "      <td>0.98</td>\n",
       "      <td>514.5</td>\n",
       "      <td>294.0</td>\n",
       "      <td>110.25</td>\n",
       "      <td>7.0</td>\n",
       "      <td>North</td>\n",
       "      <td>0.0</td>\n",
       "      <td>type1</td>\n",
       "      <td>15.55</td>\n",
       "      <td>21.33</td>\n",
       "    </tr>\n",
       "    <tr>\n",
       "      <th>1</th>\n",
       "      <td>0.98</td>\n",
       "      <td>514.5</td>\n",
       "      <td>294.0</td>\n",
       "      <td>110.25</td>\n",
       "      <td>7.0</td>\n",
       "      <td>South</td>\n",
       "      <td>0.0</td>\n",
       "      <td>type1</td>\n",
       "      <td>15.55</td>\n",
       "      <td>21.33</td>\n",
       "    </tr>\n",
       "    <tr>\n",
       "      <th>2</th>\n",
       "      <td>0.98</td>\n",
       "      <td>514.5</td>\n",
       "      <td>294.0</td>\n",
       "      <td>110.25</td>\n",
       "      <td>7.0</td>\n",
       "      <td>Est</td>\n",
       "      <td>0.0</td>\n",
       "      <td>type1</td>\n",
       "      <td>15.55</td>\n",
       "      <td>21.33</td>\n",
       "    </tr>\n",
       "    <tr>\n",
       "      <th>3</th>\n",
       "      <td>0.98</td>\n",
       "      <td>514.5</td>\n",
       "      <td>294.0</td>\n",
       "      <td>110.25</td>\n",
       "      <td>7.0</td>\n",
       "      <td>West</td>\n",
       "      <td>0.0</td>\n",
       "      <td>type1</td>\n",
       "      <td>15.55</td>\n",
       "      <td>21.33</td>\n",
       "    </tr>\n",
       "    <tr>\n",
       "      <th>4</th>\n",
       "      <td>0.90</td>\n",
       "      <td>563.5</td>\n",
       "      <td>318.5</td>\n",
       "      <td>122.50</td>\n",
       "      <td>7.0</td>\n",
       "      <td>North</td>\n",
       "      <td>0.0</td>\n",
       "      <td>type1</td>\n",
       "      <td>20.84</td>\n",
       "      <td>28.28</td>\n",
       "    </tr>\n",
       "  </tbody>\n",
       "</table>\n",
       "</div>"
      ],
      "text/plain": [
       "     X1     X2     X3      X4   X5     X6   X7     X8     Y1     Y2\n",
       "0  0.98  514.5  294.0  110.25  7.0  North  0.0  type1  15.55  21.33\n",
       "1  0.98  514.5  294.0  110.25  7.0  South  0.0  type1  15.55  21.33\n",
       "2  0.98  514.5  294.0  110.25  7.0    Est  0.0  type1  15.55  21.33\n",
       "3  0.98  514.5  294.0  110.25  7.0   West  0.0  type1  15.55  21.33\n",
       "4  0.90  563.5  318.5  122.50  7.0  North  0.0  type1  20.84  28.28"
      ]
     },
     "execution_count": 2,
     "metadata": {},
     "output_type": "execute_result"
    }
   ],
   "source": [
    "# Importation of the data \n",
    "df = pd.read_csv('energy_data.csv')\n",
    "df.head()"
   ]
  },
  {
   "cell_type": "markdown",
   "id": "engaging-yield",
   "metadata": {},
   "source": [
    "Correspondance of the variable\n",
    "- X1 Relative Compactness\n",
    "- X2 Surface Area\n",
    "- X3 Wall Area\n",
    "- X4 Roof Area\n",
    "- X5 Overall Height\n",
    "- X6 Orientation\n",
    "- X7 Glazing Area\n",
    "- X8 Glazing Area Distribution"
   ]
  },
  {
   "cell_type": "markdown",
   "id": "extended-notebook",
   "metadata": {},
   "source": [
    "Functions that will help us through our analysis"
   ]
  },
  {
   "cell_type": "code",
   "execution_count": 100,
   "id": "textile-oregon",
   "metadata": {},
   "outputs": [],
   "source": [
    "def identify_missing(data): \n",
    "    ''' Identify the features missing values NaN\n",
    "    Return list of features with the number of missing values \n",
    "    input = dataframe and print dataframe '''\n",
    "    missing = data.isnull().sum()\n",
    "    missing_result = pd.DataFrame(missing).reset_index().rename(columns = {'index' : 'features', 0 :'missing_nbr'})\n",
    "    missing_result['missing_fraction']=(missing_result.missing_nbr/data.shape[0])*100\n",
    "    print(missing_result)\n",
    "    \n",
    "def information_about_data(data): \n",
    "    '''numeric features : get the min and the max\n",
    "       categorical features get the nbr of classes\n",
    "       input = a dataframe and prints statistics of columns of this dataframe'''\n",
    "    print(\" \")\n",
    "    print(\"Numerical features\")\n",
    "    for col in data.columns : \n",
    "        if data[col].dtype != 'object' :\n",
    "            print('The feature \"%s\" have a minimum value of %s and a maximum value of %s' % (col,data[col].min(), data[col].max()))\n",
    "\n",
    "    print(\" \")\n",
    "    print(\"Categorical features\")\n",
    "    for col in data.columns : \n",
    "        if data[col].dtype == 'object' :\n",
    "            print('The feature \"%s\" have %s unique values which are %s' % (col,len(data[col].unique()),data[col].unique()))\n",
    "            \n",
    "def Plot(df,Y_value):\n",
    "    for i in [1,2,3,4,5,7]:\n",
    "        plt.plot(df[f'X{i}'],df[f'Y{Y_value}'],'.',label = f'Y{Y_value} (X{i})')\n",
    "        plt.legend()\n",
    "        plt.show()\n",
    "    "
   ]
  },
  {
   "cell_type": "code",
   "execution_count": 101,
   "id": "successful-capital",
   "metadata": {},
   "outputs": [
    {
     "name": "stdout",
     "output_type": "stream",
     "text": [
      "  features  missing_nbr  missing_fraction\n",
      "0       X1            0               0.0\n",
      "1       X2            0               0.0\n",
      "2       X3            0               0.0\n",
      "3       X4            0               0.0\n",
      "4       X5            0               0.0\n",
      "5       X6            0               0.0\n",
      "6       X7            0               0.0\n",
      "7       X8            0               0.0\n",
      "8       Y1            0               0.0\n",
      "9       Y2            0               0.0\n"
     ]
    }
   ],
   "source": [
    "identify_missing(df)"
   ]
  },
  {
   "cell_type": "markdown",
   "id": "compound-tissue",
   "metadata": {},
   "source": [
    "There is no missing numbers in our data, so no need to think about a way to replace them"
   ]
  },
  {
   "cell_type": "code",
   "execution_count": 102,
   "id": "superb-negotiation",
   "metadata": {},
   "outputs": [
    {
     "name": "stdout",
     "output_type": "stream",
     "text": [
      " \n",
      "Numerical features\n",
      "The feature \"X1\" have a minimum value of 0.62 and a maximum value of 0.98\n",
      "The feature \"X2\" have a minimum value of 514.5 and a maximum value of 808.5\n",
      "The feature \"X3\" have a minimum value of 245.0 and a maximum value of 416.5\n",
      "The feature \"X4\" have a minimum value of 110.25 and a maximum value of 220.5\n",
      "The feature \"X5\" have a minimum value of 3.5 and a maximum value of 7.0\n",
      "The feature \"X7\" have a minimum value of 0.0 and a maximum value of 0.4\n",
      "The feature \"Y1\" have a minimum value of 6.01 and a maximum value of 43.1\n",
      "The feature \"Y2\" have a minimum value of 10.9 and a maximum value of 48.03\n",
      " \n",
      "Categorical features\n",
      "The feature \"X6\" have 4 unique values which are ['North' 'South' 'Est' 'West']\n",
      "The feature \"X8\" have 6 unique values which are ['type1' 'type2' 'type3' 'type4' 'type5' 'type6']\n"
     ]
    }
   ],
   "source": [
    "information_about_data(df)"
   ]
  },
  {
   "cell_type": "markdown",
   "id": "generic-keyboard",
   "metadata": {},
   "source": [
    "### Tracer des $X_i$ en fonction de $Y_1$ puis $Y_2$"
   ]
  },
  {
   "cell_type": "code",
   "execution_count": 103,
   "id": "sixth-eight",
   "metadata": {},
   "outputs": [
    {
     "data": {
      "image/png": "[encoded data removed]",
      "text/plain": [
       "<Figure size 432x288 with 1 Axes>"
      ]
     },
     "metadata": {},
     "output_type": "display_data"
    },
    {
     "data": {
      "image/png": "[encoded data removed]",
      "text/plain": [
       "<Figure size 432x288 with 1 Axes>"
      ]
     },
     "metadata": {},
     "output_type": "display_data"
    },
    {
     "data": {
      "image/png": "[encoded data removed]",
      "text/plain": [
       "<Figure size 432x288 with 1 Axes>"
      ]
     },
     "metadata": {},
     "output_type": "display_data"
    },
    {
     "data": {
      "image/png": "[encoded data removed]",
      "text/plain": [
       "<Figure size 432x288 with 1 Axes>"
      ]
     },
     "metadata": {},
     "output_type": "display_data"
    },
    {
     "data": {
      "image/png": "[encoded data removed]",
      "text/plain": [
       "<Figure size 432x288 with 1 Axes>"
      ]
     },
     "metadata": {},
     "output_type": "display_data"
    },
    {
     "data": {
      "image/png": "[encoded data removed]",
      "text/plain": [
       "<Figure size 432x288 with 1 Axes>"
      ]
     },
     "metadata": {},
     "output_type": "display_data"
    }
   ],
   "source": [
    "Plot(df,1)"
   ]
  },
  {
   "cell_type": "markdown",
   "id": "welsh-mississippi",
   "metadata": {},
   "source": [
    "## 2) Transformation of the categorical variables"
   ]
  },
  {
   "cell_type": "code",
   "execution_count": 104,
   "id": "round-raleigh",
   "metadata": {},
   "outputs": [],
   "source": [
    "def plot_figure(axx,w,h,df):\n",
    "    ''' input = dataframe df , name of column of interest axx , width and height of the graph\n",
    "        we will rotate the ticks of the x axis and ha=right means that \n",
    "        If we imagine a rectangular box around the rotated label, \n",
    "        which side of the rectangle do we want to be aligned with the tickpoint '''\n",
    "    plt.figure(figsize=(w,h))\n",
    "    sns.countplot(df[axx])\n",
    "    plt.xticks(rotation = 30, ha='right')\n",
    "    plt.title(axx + ' distribution')\n",
    "    plt.show()\n",
    "\n",
    "#plot distribution between a categorical value and a numerical value in an histogram via predefined function\n",
    "def plot_figure_num(x_var,groupby_var,w,h, nbr_bins,x_min, x_max,step_x,df,colors):\n",
    "    '''input : name of numerical variable , name of categorical variable ,width,height, \n",
    "               nbr_bins,x_min numeric, x_max numeric,step_x to show ,dataframe'''\n",
    "    #x_var = 'hours-per-week'\n",
    "    #groupby_var = 'income'\n",
    "    df_agg = df.loc[:, [x_var, groupby_var]].groupby(groupby_var)\n",
    "    vals = [df[x_var].values.tolist() for i, df in df_agg]\n",
    "    plt.figure(figsize=(w,h))\n",
    "    n, bins, patches = plt.hist(vals, nbr_bins, stacked=True, color=colors[:len(vals)], edgecolor = 'black') \n",
    "    plt.legend({group:col for group, col in zip(np.unique(df[groupby_var]).tolist(), colors[:len(vals)])})\n",
    "    plt.xlabel(x_var)\n",
    "    plt.ylabel(\"count\")\n",
    "    plt.xticks(np.arange(x_min, x_max, step=step_x))\n",
    "    plt.title(x_var + ' distribution in function of ' + groupby_var)\n",
    "    plt.show()"
   ]
  },
  {
   "cell_type": "code",
   "execution_count": 105,
   "id": "collectible-petroleum",
   "metadata": {},
   "outputs": [
    {
     "data": {
      "image/png": "[encoded data removed]",
      "text/plain": [
       "<Figure size 720x576 with 1 Axes>"
      ]
     },
     "metadata": {},
     "output_type": "display_data"
    }
   ],
   "source": [
    "plot_figure_num('Y1','X6',10,8, 20,0, 100,20,df,['steelblue','darkorange','green','yellow'])"
   ]
  },
  {
   "cell_type": "code",
   "execution_count": 106,
   "id": "processed-conviction",
   "metadata": {},
   "outputs": [
    {
     "data": {
      "image/png": "[encoded data removed]",
      "text/plain": [
       "<Figure size 720x576 with 1 Axes>"
      ]
     },
     "metadata": {},
     "output_type": "display_data"
    }
   ],
   "source": [
    "plot_figure_num('Y1','X8',10,8, 20,0, 100,20,df,['steelblue','darkorange','green','yellow','red','black'])"
   ]
  },
  {
   "cell_type": "markdown",
   "id": "fluid-monroe",
   "metadata": {},
   "source": [
    "### Transformation of the variable"
   ]
  },
  {
   "cell_type": "markdown",
   "id": "incident-seeking",
   "metadata": {},
   "source": [
    "The orientation X6 can be replace by:\n",
    "North : 1  \n",
    "South : 2  \n",
    "West : 3\n",
    "Est : 4\n",
    "The glazing area distribution X8 can be replace by 1,2,3,4,5,6  \n",
    "type 1 : 1  \n",
    "type 2 : 2  \n",
    ".."
   ]
  },
  {
   "cell_type": "code",
   "execution_count": 89,
   "id": "expressed-moscow",
   "metadata": {},
   "outputs": [],
   "source": [
    "def transfX6(df):\n",
    "    df_new = df.copy()\n",
    "    list = {\"X6\" : {\"North\":1, \"South\":2, \"West\":3, \"Est\":4}}\n",
    "    df_new = df_new.replace(list)\n",
    "    return df_new\n",
    "\n",
    "def transfX8(df):\n",
    "    df_new = df.copy()\n",
    "    list = {\"X8\" : {\"type1\":1, \"type2\":2, \"type3\":3, \"type4\":4, \"type5\":5, \"type6\":6}}\n",
    "    df_new = df_new.replace(list)\n",
    "    return df_new"
   ]
  },
  {
   "cell_type": "code",
   "execution_count": 90,
   "id": "perfect-sheep",
   "metadata": {},
   "outputs": [
    {
     "data": {
      "text/html": [
       "<div>\n",
       "<style scoped>\n",
       "    .dataframe tbody tr th:only-of-type {\n",
       "        vertical-align: middle;\n",
       "    }\n",
       "\n",
       "    .dataframe tbody tr th {\n",
       "        vertical-align: top;\n",
       "    }\n",
       "\n",
       "    .dataframe thead th {\n",
       "        text-align: right;\n",
       "    }\n",
       "</style>\n",
       "<table border=\"1\" class=\"dataframe\">\n",
       "  <thead>\n",
       "    <tr style=\"text-align: right;\">\n",
       "      <th></th>\n",
       "      <th>X1</th>\n",
       "      <th>X2</th>\n",
       "      <th>X3</th>\n",
       "      <th>X4</th>\n",
       "      <th>X5</th>\n",
       "      <th>X6</th>\n",
       "      <th>X7</th>\n",
       "      <th>X8</th>\n",
       "      <th>Y1</th>\n",
       "      <th>Y2</th>\n",
       "    </tr>\n",
       "  </thead>\n",
       "  <tbody>\n",
       "    <tr>\n",
       "      <th>0</th>\n",
       "      <td>0.98</td>\n",
       "      <td>514.5</td>\n",
       "      <td>294.0</td>\n",
       "      <td>110.25</td>\n",
       "      <td>7.0</td>\n",
       "      <td>1</td>\n",
       "      <td>0.0</td>\n",
       "      <td>1</td>\n",
       "      <td>15.55</td>\n",
       "      <td>21.33</td>\n",
       "    </tr>\n",
       "    <tr>\n",
       "      <th>1</th>\n",
       "      <td>0.98</td>\n",
       "      <td>514.5</td>\n",
       "      <td>294.0</td>\n",
       "      <td>110.25</td>\n",
       "      <td>7.0</td>\n",
       "      <td>2</td>\n",
       "      <td>0.0</td>\n",
       "      <td>1</td>\n",
       "      <td>15.55</td>\n",
       "      <td>21.33</td>\n",
       "    </tr>\n",
       "    <tr>\n",
       "      <th>2</th>\n",
       "      <td>0.98</td>\n",
       "      <td>514.5</td>\n",
       "      <td>294.0</td>\n",
       "      <td>110.25</td>\n",
       "      <td>7.0</td>\n",
       "      <td>4</td>\n",
       "      <td>0.0</td>\n",
       "      <td>1</td>\n",
       "      <td>15.55</td>\n",
       "      <td>21.33</td>\n",
       "    </tr>\n",
       "    <tr>\n",
       "      <th>3</th>\n",
       "      <td>0.98</td>\n",
       "      <td>514.5</td>\n",
       "      <td>294.0</td>\n",
       "      <td>110.25</td>\n",
       "      <td>7.0</td>\n",
       "      <td>3</td>\n",
       "      <td>0.0</td>\n",
       "      <td>1</td>\n",
       "      <td>15.55</td>\n",
       "      <td>21.33</td>\n",
       "    </tr>\n",
       "    <tr>\n",
       "      <th>4</th>\n",
       "      <td>0.90</td>\n",
       "      <td>563.5</td>\n",
       "      <td>318.5</td>\n",
       "      <td>122.50</td>\n",
       "      <td>7.0</td>\n",
       "      <td>1</td>\n",
       "      <td>0.0</td>\n",
       "      <td>1</td>\n",
       "      <td>20.84</td>\n",
       "      <td>28.28</td>\n",
       "    </tr>\n",
       "  </tbody>\n",
       "</table>\n",
       "</div>"
      ],
      "text/plain": [
       "     X1     X2     X3      X4   X5  X6   X7  X8     Y1     Y2\n",
       "0  0.98  514.5  294.0  110.25  7.0   1  0.0   1  15.55  21.33\n",
       "1  0.98  514.5  294.0  110.25  7.0   2  0.0   1  15.55  21.33\n",
       "2  0.98  514.5  294.0  110.25  7.0   4  0.0   1  15.55  21.33\n",
       "3  0.98  514.5  294.0  110.25  7.0   3  0.0   1  15.55  21.33\n",
       "4  0.90  563.5  318.5  122.50  7.0   1  0.0   1  20.84  28.28"
      ]
     },
     "execution_count": 90,
     "metadata": {},
     "output_type": "execute_result"
    }
   ],
   "source": [
    "X6_num = transfX6(df)\n",
    "X8_num = transfX8(df)\n",
    "\n",
    "df1 = pd.DataFrame(X6_num)\n",
    "df2 = pd.DataFrame(X8_num)\n",
    "df1['X8']=df2['X8']\n",
    "\n",
    "df_num = df1.copy()\n",
    "df_num.head()"
   ]
  },
  {
   "cell_type": "code",
   "execution_count": 91,
   "id": "balanced-idaho",
   "metadata": {},
   "outputs": [
    {
     "data": {
      "text/html": [
       "<div>\n",
       "<style scoped>\n",
       "    .dataframe tbody tr th:only-of-type {\n",
       "        vertical-align: middle;\n",
       "    }\n",
       "\n",
       "    .dataframe tbody tr th {\n",
       "        vertical-align: top;\n",
       "    }\n",
       "\n",
       "    .dataframe thead th {\n",
       "        text-align: right;\n",
       "    }\n",
       "</style>\n",
       "<table border=\"1\" class=\"dataframe\">\n",
       "  <thead>\n",
       "    <tr style=\"text-align: right;\">\n",
       "      <th></th>\n",
       "      <th>mean</th>\n",
       "      <th>Var</th>\n",
       "      <th>Std.Var</th>\n",
       "    </tr>\n",
       "  </thead>\n",
       "  <tbody>\n",
       "    <tr>\n",
       "      <th>X1</th>\n",
       "      <td>0.764167</td>\n",
       "      <td>0.011189</td>\n",
       "      <td>0.105777</td>\n",
       "    </tr>\n",
       "    <tr>\n",
       "      <th>X2</th>\n",
       "      <td>671.708333</td>\n",
       "      <td>7759.163842</td>\n",
       "      <td>88.086116</td>\n",
       "    </tr>\n",
       "    <tr>\n",
       "      <th>X3</th>\n",
       "      <td>318.500000</td>\n",
       "      <td>1903.269883</td>\n",
       "      <td>43.626481</td>\n",
       "    </tr>\n",
       "    <tr>\n",
       "      <th>X4</th>\n",
       "      <td>176.604167</td>\n",
       "      <td>2039.963060</td>\n",
       "      <td>45.165950</td>\n",
       "    </tr>\n",
       "    <tr>\n",
       "      <th>X5</th>\n",
       "      <td>5.250000</td>\n",
       "      <td>3.066493</td>\n",
       "      <td>1.751140</td>\n",
       "    </tr>\n",
       "    <tr>\n",
       "      <th>X6</th>\n",
       "      <td>2.500000</td>\n",
       "      <td>1.251630</td>\n",
       "      <td>1.118763</td>\n",
       "    </tr>\n",
       "    <tr>\n",
       "      <th>X7</th>\n",
       "      <td>0.234375</td>\n",
       "      <td>0.017748</td>\n",
       "      <td>0.133221</td>\n",
       "    </tr>\n",
       "    <tr>\n",
       "      <th>X8</th>\n",
       "      <td>3.812500</td>\n",
       "      <td>2.405476</td>\n",
       "      <td>1.550960</td>\n",
       "    </tr>\n",
       "    <tr>\n",
       "      <th>Y1</th>\n",
       "      <td>22.307201</td>\n",
       "      <td>101.812050</td>\n",
       "      <td>10.090196</td>\n",
       "    </tr>\n",
       "    <tr>\n",
       "      <th>Y2</th>\n",
       "      <td>24.587760</td>\n",
       "      <td>90.502983</td>\n",
       "      <td>9.513306</td>\n",
       "    </tr>\n",
       "  </tbody>\n",
       "</table>\n",
       "</div>"
      ],
      "text/plain": [
       "          mean          Var    Std.Var\n",
       "X1    0.764167     0.011189   0.105777\n",
       "X2  671.708333  7759.163842  88.086116\n",
       "X3  318.500000  1903.269883  43.626481\n",
       "X4  176.604167  2039.963060  45.165950\n",
       "X5    5.250000     3.066493   1.751140\n",
       "X6    2.500000     1.251630   1.118763\n",
       "X7    0.234375     0.017748   0.133221\n",
       "X8    3.812500     2.405476   1.550960\n",
       "Y1   22.307201   101.812050  10.090196\n",
       "Y2   24.587760    90.502983   9.513306"
      ]
     },
     "execution_count": 91,
     "metadata": {},
     "output_type": "execute_result"
    }
   ],
   "source": [
    "## Stats with the numerical values\n",
    "stat = pd.DataFrame()\n",
    "stat['mean'] = df_num.mean()\n",
    "stat['Var'] = df_num.var()\n",
    "stat['Std.Var'] = df_num.std()\n",
    "stat"
   ]
  },
  {
   "cell_type": "markdown",
   "id": "raised-forge",
   "metadata": {},
   "source": [
    "## 3) Normalize variables"
   ]
  },
  {
   "cell_type": "code",
   "execution_count": 92,
   "id": "heavy-merchant",
   "metadata": {},
   "outputs": [
    {
     "data": {
      "text/html": [
       "<div>\n",
       "<style scoped>\n",
       "    .dataframe tbody tr th:only-of-type {\n",
       "        vertical-align: middle;\n",
       "    }\n",
       "\n",
       "    .dataframe tbody tr th {\n",
       "        vertical-align: top;\n",
       "    }\n",
       "\n",
       "    .dataframe thead th {\n",
       "        text-align: right;\n",
       "    }\n",
       "</style>\n",
       "<table border=\"1\" class=\"dataframe\">\n",
       "  <thead>\n",
       "    <tr style=\"text-align: right;\">\n",
       "      <th></th>\n",
       "      <th>X1</th>\n",
       "      <th>X2</th>\n",
       "      <th>X3</th>\n",
       "      <th>X4</th>\n",
       "      <th>X5</th>\n",
       "      <th>X6</th>\n",
       "      <th>X7</th>\n",
       "      <th>X8</th>\n",
       "      <th>Y1</th>\n",
       "      <th>Y2</th>\n",
       "    </tr>\n",
       "  </thead>\n",
       "  <tbody>\n",
       "    <tr>\n",
       "      <th>0</th>\n",
       "      <td>2.040447</td>\n",
       "      <td>-1.784712</td>\n",
       "      <td>-0.561586</td>\n",
       "      <td>-1.469119</td>\n",
       "      <td>0.999349</td>\n",
       "      <td>-1.340767</td>\n",
       "      <td>-1.7593</td>\n",
       "      <td>-1.813393</td>\n",
       "      <td>-0.669680</td>\n",
       "      <td>-0.342443</td>\n",
       "    </tr>\n",
       "    <tr>\n",
       "      <th>1</th>\n",
       "      <td>2.040447</td>\n",
       "      <td>-1.784712</td>\n",
       "      <td>-0.561586</td>\n",
       "      <td>-1.469119</td>\n",
       "      <td>0.999349</td>\n",
       "      <td>-0.446922</td>\n",
       "      <td>-1.7593</td>\n",
       "      <td>-1.813393</td>\n",
       "      <td>-0.669680</td>\n",
       "      <td>-0.342443</td>\n",
       "    </tr>\n",
       "    <tr>\n",
       "      <th>2</th>\n",
       "      <td>2.040447</td>\n",
       "      <td>-1.784712</td>\n",
       "      <td>-0.561586</td>\n",
       "      <td>-1.469119</td>\n",
       "      <td>0.999349</td>\n",
       "      <td>1.340767</td>\n",
       "      <td>-1.7593</td>\n",
       "      <td>-1.813393</td>\n",
       "      <td>-0.669680</td>\n",
       "      <td>-0.342443</td>\n",
       "    </tr>\n",
       "    <tr>\n",
       "      <th>3</th>\n",
       "      <td>2.040447</td>\n",
       "      <td>-1.784712</td>\n",
       "      <td>-0.561586</td>\n",
       "      <td>-1.469119</td>\n",
       "      <td>0.999349</td>\n",
       "      <td>0.446922</td>\n",
       "      <td>-1.7593</td>\n",
       "      <td>-1.813393</td>\n",
       "      <td>-0.669680</td>\n",
       "      <td>-0.342443</td>\n",
       "    </tr>\n",
       "    <tr>\n",
       "      <th>4</th>\n",
       "      <td>1.284142</td>\n",
       "      <td>-1.228438</td>\n",
       "      <td>0.000000</td>\n",
       "      <td>-1.197897</td>\n",
       "      <td>0.999349</td>\n",
       "      <td>-1.340767</td>\n",
       "      <td>-1.7593</td>\n",
       "      <td>-1.813393</td>\n",
       "      <td>-0.145409</td>\n",
       "      <td>0.388113</td>\n",
       "    </tr>\n",
       "  </tbody>\n",
       "</table>\n",
       "</div>"
      ],
      "text/plain": [
       "         X1        X2        X3        X4        X5        X6      X7  \\\n",
       "0  2.040447 -1.784712 -0.561586 -1.469119  0.999349 -1.340767 -1.7593   \n",
       "1  2.040447 -1.784712 -0.561586 -1.469119  0.999349 -0.446922 -1.7593   \n",
       "2  2.040447 -1.784712 -0.561586 -1.469119  0.999349  1.340767 -1.7593   \n",
       "3  2.040447 -1.784712 -0.561586 -1.469119  0.999349  0.446922 -1.7593   \n",
       "4  1.284142 -1.228438  0.000000 -1.197897  0.999349 -1.340767 -1.7593   \n",
       "\n",
       "         X8        Y1        Y2  \n",
       "0 -1.813393 -0.669680 -0.342443  \n",
       "1 -1.813393 -0.669680 -0.342443  \n",
       "2 -1.813393 -0.669680 -0.342443  \n",
       "3 -1.813393 -0.669680 -0.342443  \n",
       "4 -1.813393 -0.145409  0.388113  "
      ]
     },
     "execution_count": 92,
     "metadata": {},
     "output_type": "execute_result"
    }
   ],
   "source": [
    "df_norm = (df_num-df_num.mean())/df_num.std()\n",
    "df_norm.head()"
   ]
  },
  {
   "cell_type": "markdown",
   "id": "incident-segment",
   "metadata": {},
   "source": [
    "## 4) Shuffle dataset + split train/test subsets"
   ]
  },
  {
   "cell_type": "markdown",
   "id": "forward-christmas",
   "metadata": {},
   "source": [
    "Code de Léa"
   ]
  },
  {
   "cell_type": "code",
   "execution_count": null,
   "id": "signed-stewart",
   "metadata": {},
   "outputs": [],
   "source": [
    "#Question 3\n",
    "#Mélanger la dataFrame : frac = 1 pour mélanger, reset index = renuméroter les lignes, drop=True ne pas créer de colonne en plus\n",
    "df_shuffled = df_norm.sample(frac=1).reset_index(drop=True)\n",
    "#print(df_shuffled.head)\n",
    "\n",
    "#Sélectionner 50% des données \n",
    "a = int((len(df))*0.8)\n",
    "b = int(len(df)*0.2)\n",
    "df_données = df_norm.drop(df.index[a : b])\n",
    "print(df_données.head) #Afficher les 5 premières lignes\n",
    "\n",
    "#df_shuffled_2 = df_données.sample(frac=1).reset_index(drop=True)\n",
    "\n",
    "#80% des données pour l'apprentissage\n",
    "#df_apprentissage = []\n",
    "#c=int(0.8*len(df_shuffled_2))\n",
    "#print(c)\n",
    "#test = df_shuffled_2.iloc[:c,:]\n",
    "#print(test)\n",
    "#df_apprentissage.append(test)\n",
    "#print(df_apprentissage)\n",
    "\n",
    "#20% des données pour la validation\n",
    "#df_validation = []\n",
    "#test_2 = df_shuffled_2.iloc[c+1:,:]\n",
    "#df_validation.append(test_2)\n",
    "#print(df_validation)\n",
    "\n",
    "#Séparation des variables du dataset\n",
    "X_shuff = df_shuffled[['F1', 'F2', 'F3', 'F4', 'F5', 'F6', 'F7', 'F8', 'F8','F9']]  #Variables explicatives quantitatives\n",
    "Y_shuff = df_shuffled[\"RMSD\"]\n",
    "\n",
    "#Nous séparons les données en apprentissage et validation. Ici nous prenons 20% des échantillons comme données de validation ('test')\n",
    "from sklearn.model_selection import train_test_split\n",
    "X_train, X_test, Y_train, Y_test = train_test_split(\n",
    "    X_shuff, Y_shuff, test_size=0.2)  \n",
    "print(X_train.shape, X_test.shape, Y_train.shape, Y_test.shape)"
   ]
  },
  {
   "cell_type": "code",
   "execution_count": null,
   "id": "closed-hampshire",
   "metadata": {},
   "outputs": [],
   "source": [
    "# diviser les variables\n",
    "df_shuffled = df_norm.sample(frac=1).reset_index(drop=True)\n",
    "a = int((len(df))*0.8)\n",
    "b = int(len(df)*0.2)\n",
    "df_données = df_norm.drop(df.index[a : b])\n",
    "X_shuff = df_shuffled[['North', 'South', 'West', 'X1', 'X2', 'X3', 'X4', 'X5','X7']]  #Variables explicatives quantitatives\n",
    "Y_shuff = df_shuffled['Y1']\n",
    "\n",
    "X_train, X_test, Y_train, Y_test = train_test_split(\n",
    "    X_shuff, Y_shuff, test_size=0.2)  \n",
    "\n",
    "onesbis = np.ones([X_train.shape[0],1])\n",
    "X_train = np.concatenate((onesbis,X_train),axis=1)\n",
    "\n",
    "print(X_train.shape, X_test.shape, Y_train.shape, Y_test.shape)"
   ]
  },
  {
   "cell_type": "markdown",
   "id": "bound-edmonton",
   "metadata": {},
   "source": [
    "## 5) Apply multiple linear regression with code seen in the class (vary alpha and nbr of iterations + comment)\n"
   ]
  },
  {
   "cell_type": "code",
   "execution_count": 95,
   "id": "apart-charity",
   "metadata": {},
   "outputs": [],
   "source": [
    "#setting the matrixes\n",
    "X = df_norm.iloc[:,0:8]  #take all lines and the first 10 columns\n",
    "ones = np.ones([X.shape[0],1])\n",
    "X = np.concatenate((ones,X),axis=1)\n",
    "\n",
    "Y = df_norm.iloc[:,8:9].values #.values converts it from pandas.core.frame.DataFrame to numpy.ndarray\n",
    "W = np.zeros([1,9])"
   ]
  },
  {
   "cell_type": "code",
   "execution_count": 96,
   "id": "closing-malawi",
   "metadata": {},
   "outputs": [],
   "source": [
    "#computecost\n",
    "def computeHeatingLoad(X,Y,W):\n",
    "    tobesummed = np.power(((X @ W.T)-Y),2)\n",
    "    return np.sum(tobesummed)/(len(X))\n",
    "\n",
    "def gradientDescent(X,Y,W,iters,alpha):\n",
    "    Err = np.zeros(iters)\n",
    "    for i in range(iters):\n",
    "        W = W - (2*alpha/len(X)) * np.sum(X * (X @ W.T - Y), axis=0)\n",
    "        Err[i] = computeHeatingLoad(X, Y, W)\n",
    "    return W,Err"
   ]
  },
  {
   "cell_type": "code",
   "execution_count": 97,
   "id": "consolidated-universal",
   "metadata": {},
   "outputs": [
    {
     "data": {
      "image/png": "[encoded data removed]",
      "text/plain": [
       "<Figure size 432x288 with 1 Axes>"
      ]
     },
     "metadata": {
      "needs_background": "light"
     },
     "output_type": "display_data"
    },
    {
     "name": "stdout",
     "output_type": "stream",
     "text": [
      "Final values with alpha fixed : [0.08895119810852321, 0.11385064129917936, 0.41484133259278017]\n",
      "Final values with alpha fixed : [0.4156312510802727, 0.11385064129917936, 0.08894728729264724]\n"
     ]
    },
    {
     "data": {
      "image/png": "[encoded data removed]",
      "text/plain": [
       "<Figure size 432x288 with 1 Axes>"
      ]
     },
     "metadata": {
      "needs_background": "light"
     },
     "output_type": "display_data"
    }
   ],
   "source": [
    "Alpha = [0.0001,0.001,0.01]\n",
    "Iters = [10000,1000,100]\n",
    "\n",
    "#Test with different alpha and iterations\n",
    "AlphaF, ItersF, galf , gitf  = [1,1,1],[1,1,1], [1,1,1], [1,1,1]\n",
    "\n",
    "for i,(alpha,iters) in enumerate(zip(Alpha,Iters)):\n",
    "    gitf[i], ItersF[i] = gradientDescent(X,Y,W,Iters[1],alpha)\n",
    "    galf[i], AlphaF[i] = gradientDescent(X,Y,W,iters,Alpha[1])\n",
    "    #print(gitf,galf)\n",
    "    \n",
    "#Plot\n",
    "for i in range(3):\n",
    "    plt.plot(np.arange(Iters[1]),ItersF[i], label = f'alpha = {Alpha[i]}')\n",
    "    plt.title('Error vs Number of Iteration at fixed iterations = 1000')\n",
    "    plt.xlabel(\"Iterations\")\n",
    "    plt.ylabel(\"Heating Load\")\n",
    "    plt.legend()\n",
    "plt.show()\n",
    "for i in range(3):\n",
    "    plt.plot(np.arange(Iters[i]),AlphaF[i],  label = f'iters = {Iters[i]}')\n",
    "    plt.title('Error vs Number of Iteration at fixed alpha = 0.001')\n",
    "    plt.xlabel(\"Iterations\")\n",
    "    plt.ylabel(\"Heating Load\")\n",
    "    plt.legend()\n",
    "\n",
    "#Final Heating Load with alpha or iters fixed\n",
    "HeatingLoadalphaF = [computeHeatingLoad(X,Y,x) for x in galf]\n",
    "HeatingLoaditersF = [computeHeatingLoad(X,Y,x) for x in gitf]\n",
    "print(f'Final values with alpha fixed : {HeatingLoadalphaF}')\n",
    "print(f'Final values with alpha fixed : {HeatingLoaditersF}')"
   ]
  },
  {
   "cell_type": "markdown",
   "id": "genetic-operator",
   "metadata": {},
   "source": [
    "### Comments"
   ]
  },
  {
   "cell_type": "markdown",
   "id": "annual-belly",
   "metadata": {},
   "source": [
    "...  \n",
    "..."
   ]
  },
  {
   "cell_type": "markdown",
   "id": "conservative-stuart",
   "metadata": {},
   "source": [
    "## 6) Apply the linear regression of Scikit learn library (cf. the code given in class) + vary attributes and compare to question 5"
   ]
  },
  {
   "cell_type": "markdown",
   "id": "proved-bedroom",
   "metadata": {},
   "source": [
    "Do the same thing than with the following code but with our datas"
   ]
  },
  {
   "cell_type": "code",
   "execution_count": 116,
   "id": "mathematical-dining",
   "metadata": {},
   "outputs": [],
   "source": [
    "def plot_data(data):\n",
    "    plt.plot(data['X1'],data['Y'],'k.')\n",
    "    plt.xlabel('x')\n",
    "    plt.ylabel('y')\n",
    "\n",
    "#plot_data(data)\n",
    "\n",
    "def polynomial_features(data,deg):\n",
    "    data_copy = data\n",
    "    for i in range(1,deg):\n",
    "        data_copy['X'+str(i+1)]=data_copy['X'+str(i)]*data_copy['X1']\n",
    "    #print(data_copy)\n",
    "    return data_copy\n",
    "\n",
    "def polynomial_regression(data,deg):\n",
    "    data_copy = polynomial_features(data,deg)\n",
    "    X= data_copy.drop(['Y'], axis = 1)\n",
    "    y= data_copy['Y']\n",
    "    model = LinearRegression(fit_intercept=True).fit(X,y)\n",
    "    return model\n",
    "\n",
    "def plot_poly_predictions(data,model):\n",
    "    plot_data(data)\n",
    "    \n",
    "    #get the degree of the polynomial\n",
    "    deg=len(model.coef_)\n",
    "    \n",
    "    #create 200 points in the x axis and compute the predicted value at each point\n",
    "    x_pred=pd.DataFrame(data={'X1':[i/200 for i in range (200)]})\n",
    "    y_pred=model.predict(polynomial_features(x_pred,deg))\n",
    "    \n",
    "    #plot predictions\n",
    "    plt.plot(x_pred['X1'],y_pred,'g-',label='degree '+str(deg)+' fit')\n",
    "    plt.legend(loc='lower left')\n",
    "    plt.axis([0,1,-1.5,1.5])\n",
    "    plt.show()\n",
    "\n",
    "def print_coefficients(model):\n",
    "    \n",
    "    #get the degree of the polynomial\n",
    "    deg=len(model.coef_)\n",
    "    \n",
    "    #get learned parameters as a list\n",
    "    w=list(model.coef_)\n",
    "    #print(w)\n",
    "    w.reverse()\n",
    "    w1=model.intercept_\n",
    "    #print(w1)\n",
    "    w.append(w1)\n",
    "    #print(w)\n",
    "    print('learned polynomial for degree '+str(deg)+' :')\n",
    "    print(np.poly1d(w))"
   ]
  },
  {
   "cell_type": "code",
   "execution_count": 117,
   "id": "contrary-convertible",
   "metadata": {},
   "outputs": [
    {
     "name": "stdout",
     "output_type": "stream",
     "text": [
      "learned polynomial for degree 5 :\n",
      "       5        4         3         2\n",
      "20.35 x - 43.9 x + 33.58 x - 16.87 x + 6.181 x - 0.07389\n"
     ]
    },
    {
     "data": {
      "image/png": "[encoded data removed]",
      "text/plain": [
       "<Figure size 432x288 with 1 Axes>"
      ]
     },
     "metadata": {},
     "output_type": "display_data"
    }
   ],
   "source": [
    "np.random.seed(98104)\n",
    "n=30\n",
    "#x=np.random.uniform(0,2*m.pi,n)\n",
    "x=np.random.rand(n)\n",
    "x.sort()\n",
    "\n",
    "#print(x)\n",
    "\n",
    "y1=np.sin(4*x)\n",
    "\n",
    "#print(y1)\n",
    "\n",
    "np.random.seed(1)\n",
    "e=np.random.normal(0,1/5,n)\n",
    "\n",
    "#print(e)\n",
    "\n",
    "y=y1+e\n",
    "\n",
    "#print(y)\n",
    "\n",
    "data=pd.DataFrame(data={'X1':x, 'Y':y})\n",
    "\n",
    "#when we change the degree, the higher, the more big are our coefficients, the more overfitted the data are\n",
    "model = polynomial_regression(data,deg=5)\n",
    "print_coefficients(model)\n",
    "plot_poly_predictions(data,model)\n",
    "\n",
    "#model = polynomial_regression(data,deg=25)\n",
    "#print_coefficients(model)\n",
    "#plot_poly_predictions(data,model)"
   ]
  },
  {
   "cell_type": "markdown",
   "id": "facial-contribution",
   "metadata": {},
   "source": [
    "## 7) Use python libraries to get p-value of the different coefficients of the variables + Interprete"
   ]
  },
  {
   "cell_type": "markdown",
   "id": "accurate-trigger",
   "metadata": {},
   "source": [
    "Something like that"
   ]
  },
  {
   "cell_type": "code",
   "execution_count": 98,
   "id": "systematic-tractor",
   "metadata": {},
   "outputs": [],
   "source": [
    "df_numerical = df_norm.copy()"
   ]
  },
  {
   "cell_type": "code",
   "execution_count": 99,
   "id": "forced-occupation",
   "metadata": {},
   "outputs": [
    {
     "data": {
      "text/html": [
       "<div>\n",
       "<style scoped>\n",
       "    .dataframe tbody tr th:only-of-type {\n",
       "        vertical-align: middle;\n",
       "    }\n",
       "\n",
       "    .dataframe tbody tr th {\n",
       "        vertical-align: top;\n",
       "    }\n",
       "\n",
       "    .dataframe thead th {\n",
       "        text-align: right;\n",
       "    }\n",
       "</style>\n",
       "<table border=\"1\" class=\"dataframe\">\n",
       "  <thead>\n",
       "    <tr style=\"text-align: right;\">\n",
       "      <th></th>\n",
       "      <th>X1</th>\n",
       "      <th>X2</th>\n",
       "      <th>X3</th>\n",
       "      <th>X4</th>\n",
       "      <th>X5</th>\n",
       "      <th>X6</th>\n",
       "      <th>X7</th>\n",
       "      <th>X8</th>\n",
       "      <th>Y1</th>\n",
       "      <th>Y2</th>\n",
       "    </tr>\n",
       "  </thead>\n",
       "  <tbody>\n",
       "    <tr>\n",
       "      <th>X1</th>\n",
       "      <td>1.000000e+00</td>\n",
       "      <td>-9.919015e-01</td>\n",
       "      <td>-2.037817e-01</td>\n",
       "      <td>-8.688234e-01</td>\n",
       "      <td>8.277473e-01</td>\n",
       "      <td>-1.592236e-18</td>\n",
       "      <td>-5.500453e-18</td>\n",
       "      <td>1.215890e-17</td>\n",
       "      <td>0.622272</td>\n",
       "      <td>0.634339</td>\n",
       "    </tr>\n",
       "    <tr>\n",
       "      <th>X2</th>\n",
       "      <td>-9.919015e-01</td>\n",
       "      <td>1.000000e+00</td>\n",
       "      <td>1.955016e-01</td>\n",
       "      <td>8.807195e-01</td>\n",
       "      <td>-8.581477e-01</td>\n",
       "      <td>4.052965e-18</td>\n",
       "      <td>-1.881734e-17</td>\n",
       "      <td>2.721277e-17</td>\n",
       "      <td>-0.658120</td>\n",
       "      <td>-0.672999</td>\n",
       "    </tr>\n",
       "    <tr>\n",
       "      <th>X3</th>\n",
       "      <td>-2.037817e-01</td>\n",
       "      <td>1.955016e-01</td>\n",
       "      <td>1.000000e+00</td>\n",
       "      <td>-2.923165e-01</td>\n",
       "      <td>2.809757e-01</td>\n",
       "      <td>-8.684926e-19</td>\n",
       "      <td>-5.210956e-18</td>\n",
       "      <td>2.315980e-18</td>\n",
       "      <td>0.455671</td>\n",
       "      <td>0.427117</td>\n",
       "    </tr>\n",
       "    <tr>\n",
       "      <th>X4</th>\n",
       "      <td>-8.688234e-01</td>\n",
       "      <td>8.807195e-01</td>\n",
       "      <td>-2.923165e-01</td>\n",
       "      <td>1.000000e+00</td>\n",
       "      <td>-9.725122e-01</td>\n",
       "      <td>7.454561e-18</td>\n",
       "      <td>-4.921458e-18</td>\n",
       "      <td>1.129040e-17</td>\n",
       "      <td>-0.861828</td>\n",
       "      <td>-0.862547</td>\n",
       "    </tr>\n",
       "    <tr>\n",
       "      <th>X5</th>\n",
       "      <td>8.277473e-01</td>\n",
       "      <td>-8.581477e-01</td>\n",
       "      <td>2.809757e-01</td>\n",
       "      <td>-9.725122e-01</td>\n",
       "      <td>1.000000e+00</td>\n",
       "      <td>-6.803192e-18</td>\n",
       "      <td>-6.021549e-17</td>\n",
       "      <td>-2.315980e-18</td>\n",
       "      <td>0.889431</td>\n",
       "      <td>0.895785</td>\n",
       "    </tr>\n",
       "    <tr>\n",
       "      <th>X6</th>\n",
       "      <td>-1.592236e-18</td>\n",
       "      <td>4.052965e-18</td>\n",
       "      <td>-8.684926e-19</td>\n",
       "      <td>7.454561e-18</td>\n",
       "      <td>-6.803192e-18</td>\n",
       "      <td>1.000000e+00</td>\n",
       "      <td>5.066207e-18</td>\n",
       "      <td>2.315980e-18</td>\n",
       "      <td>-0.002930</td>\n",
       "      <td>0.003157</td>\n",
       "    </tr>\n",
       "    <tr>\n",
       "      <th>X7</th>\n",
       "      <td>-5.500453e-18</td>\n",
       "      <td>-1.881734e-17</td>\n",
       "      <td>-5.210956e-18</td>\n",
       "      <td>-4.921458e-18</td>\n",
       "      <td>-6.021549e-17</td>\n",
       "      <td>5.066207e-18</td>\n",
       "      <td>1.000000e+00</td>\n",
       "      <td>2.129642e-01</td>\n",
       "      <td>0.269841</td>\n",
       "      <td>0.207505</td>\n",
       "    </tr>\n",
       "    <tr>\n",
       "      <th>X8</th>\n",
       "      <td>1.215890e-17</td>\n",
       "      <td>2.721277e-17</td>\n",
       "      <td>2.315980e-18</td>\n",
       "      <td>1.129040e-17</td>\n",
       "      <td>-2.315980e-18</td>\n",
       "      <td>2.315980e-18</td>\n",
       "      <td>2.129642e-01</td>\n",
       "      <td>1.000000e+00</td>\n",
       "      <td>0.087368</td>\n",
       "      <td>0.050525</td>\n",
       "    </tr>\n",
       "    <tr>\n",
       "      <th>Y1</th>\n",
       "      <td>6.222722e-01</td>\n",
       "      <td>-6.581202e-01</td>\n",
       "      <td>4.556712e-01</td>\n",
       "      <td>-8.618283e-01</td>\n",
       "      <td>8.894307e-01</td>\n",
       "      <td>-2.929557e-03</td>\n",
       "      <td>2.698410e-01</td>\n",
       "      <td>8.736759e-02</td>\n",
       "      <td>1.000000</td>\n",
       "      <td>0.975862</td>\n",
       "    </tr>\n",
       "    <tr>\n",
       "      <th>Y2</th>\n",
       "      <td>6.343391e-01</td>\n",
       "      <td>-6.729989e-01</td>\n",
       "      <td>4.271170e-01</td>\n",
       "      <td>-8.625466e-01</td>\n",
       "      <td>8.957852e-01</td>\n",
       "      <td>3.156819e-03</td>\n",
       "      <td>2.075050e-01</td>\n",
       "      <td>5.052512e-02</td>\n",
       "      <td>0.975862</td>\n",
       "      <td>1.000000</td>\n",
       "    </tr>\n",
       "  </tbody>\n",
       "</table>\n",
       "</div>"
      ],
      "text/plain": [
       "              X1            X2            X3            X4            X5  \\\n",
       "X1  1.000000e+00 -9.919015e-01 -2.037817e-01 -8.688234e-01  8.277473e-01   \n",
       "X2 -9.919015e-01  1.000000e+00  1.955016e-01  8.807195e-01 -8.581477e-01   \n",
       "X3 -2.037817e-01  1.955016e-01  1.000000e+00 -2.923165e-01  2.809757e-01   \n",
       "X4 -8.688234e-01  8.807195e-01 -2.923165e-01  1.000000e+00 -9.725122e-01   \n",
       "X5  8.277473e-01 -8.581477e-01  2.809757e-01 -9.725122e-01  1.000000e+00   \n",
       "X6 -1.592236e-18  4.052965e-18 -8.684926e-19  7.454561e-18 -6.803192e-18   \n",
       "X7 -5.500453e-18 -1.881734e-17 -5.210956e-18 -4.921458e-18 -6.021549e-17   \n",
       "X8  1.215890e-17  2.721277e-17  2.315980e-18  1.129040e-17 -2.315980e-18   \n",
       "Y1  6.222722e-01 -6.581202e-01  4.556712e-01 -8.618283e-01  8.894307e-01   \n",
       "Y2  6.343391e-01 -6.729989e-01  4.271170e-01 -8.625466e-01  8.957852e-01   \n",
       "\n",
       "              X6            X7            X8        Y1        Y2  \n",
       "X1 -1.592236e-18 -5.500453e-18  1.215890e-17  0.622272  0.634339  \n",
       "X2  4.052965e-18 -1.881734e-17  2.721277e-17 -0.658120 -0.672999  \n",
       "X3 -8.684926e-19 -5.210956e-18  2.315980e-18  0.455671  0.427117  \n",
       "X4  7.454561e-18 -4.921458e-18  1.129040e-17 -0.861828 -0.862547  \n",
       "X5 -6.803192e-18 -6.021549e-17 -2.315980e-18  0.889431  0.895785  \n",
       "X6  1.000000e+00  5.066207e-18  2.315980e-18 -0.002930  0.003157  \n",
       "X7  5.066207e-18  1.000000e+00  2.129642e-01  0.269841  0.207505  \n",
       "X8  2.315980e-18  2.129642e-01  1.000000e+00  0.087368  0.050525  \n",
       "Y1 -2.929557e-03  2.698410e-01  8.736759e-02  1.000000  0.975862  \n",
       "Y2  3.156819e-03  2.075050e-01  5.052512e-02  0.975862  1.000000  "
      ]
     },
     "execution_count": 99,
     "metadata": {},
     "output_type": "execute_result"
    }
   ],
   "source": [
    "#get all the regression coefficient\n",
    "corr1 = df_numerical.corr(method = 'pearson')\n",
    "corr2 = df_numerical.corr(method = 'spearman')\n",
    "corr3 = df_numerical.corr(method = 'kendall')\n",
    "corr1"
   ]
  },
  {
   "cell_type": "code",
   "execution_count": 100,
   "id": "historic-heather",
   "metadata": {},
   "outputs": [
    {
     "name": "stdout",
     "output_type": "stream",
     "text": [
      "pearson of (Y1,X1) :  -0.8625466035249744\n",
      "spearman of (Y1,X1) :  -0.8031745820750257\n",
      "kendall of (Y1,X1) :  -0.6056112504280883\n"
     ]
    }
   ],
   "source": [
    "print(f'pearson of (Y1,X1) :  {corr1.iat[3,9]}')\n",
    "print(f'spearman of (Y1,X1) :  {corr2.iat[3,9]}')\n",
    "print(f'kendall of (Y1,X1) :  {corr3.iat[3,9]}')"
   ]
  }
 ],
 "metadata": {
  "kernelspec": {
   "display_name": "Python 3",
   "language": "python",
   "name": "python3"
  },
  "language_info": {
   "codemirror_mode": {
    "name": "ipython",
    "version": 3
   },
   "file_extension": ".py",
   "mimetype": "text/x-python",
   "name": "python",
   "nbconvert_exporter": "python",
   "pygments_lexer": "ipython3",
   "version": "3.8.5"
  }
 },
 "nbformat": 4,
 "nbformat_minor": 5
}
