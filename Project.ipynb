{
 "cells": [
  {
   "cell_type": "markdown",
   "id": "imposed-pillow",
   "metadata": {},
   "source": [
    "# Data analysis project"
   ]
  },
  {
   "cell_type": "markdown",
   "id": "backed-custom",
   "metadata": {},
   "source": [
    "Written by Julien Samuel, Mayuxiang Chen and Jolan Kerrien"
   ]
  },
  {
   "cell_type": "code",
   "execution_count": 10,
   "id": "sapphire-estimate",
   "metadata": {},
   "outputs": [],
   "source": [
    "import numpy as np\n",
    "from scipy import stats\n",
    "from math import sqrt\n",
    "from scipy.stats import chi2_contingency\n",
    "import pandas as pd\n",
    "#Ploting librairies:\n",
    "import matplotlib.pyplot as plt\n",
    "import seaborn as sns\n",
    "import pingouin as pg"
   ]
  },
  {
   "cell_type": "markdown",
   "id": "occasional-cable",
   "metadata": {},
   "source": [
    "## 1) Graphical Representation of all the variables with respect to the target + Computing the correlation"
   ]
  },
  {
   "cell_type": "markdown",
   "id": "agricultural-mouse",
   "metadata": {},
   "source": [
    "Functions that will help us through our analysis"
   ]
  },
  {
   "cell_type": "code",
   "execution_count": 11,
   "id": "attractive-sodium",
   "metadata": {},
   "outputs": [
    {
     "data": {
      "text/html": [
       "<div>\n",
       "<style scoped>\n",
       "    .dataframe tbody tr th:only-of-type {\n",
       "        vertical-align: middle;\n",
       "    }\n",
       "\n",
       "    .dataframe tbody tr th {\n",
       "        vertical-align: top;\n",
       "    }\n",
       "\n",
       "    .dataframe thead th {\n",
       "        text-align: right;\n",
       "    }\n",
       "</style>\n",
       "<table border=\"1\" class=\"dataframe\">\n",
       "  <thead>\n",
       "    <tr style=\"text-align: right;\">\n",
       "      <th></th>\n",
       "      <th>X2</th>\n",
       "      <th>X3</th>\n",
       "      <th>X4</th>\n",
       "      <th>X5</th>\n",
       "      <th>X6</th>\n",
       "      <th>X7</th>\n",
       "      <th>X8</th>\n",
       "      <th>Y1</th>\n",
       "      <th>Y2</th>\n",
       "    </tr>\n",
       "  </thead>\n",
       "  <tbody>\n",
       "    <tr>\n",
       "      <th>0</th>\n",
       "      <td>514.5</td>\n",
       "      <td>294.0</td>\n",
       "      <td>110.25</td>\n",
       "      <td>7.0</td>\n",
       "      <td>North</td>\n",
       "      <td>0.0</td>\n",
       "      <td>type1</td>\n",
       "      <td>15.55</td>\n",
       "      <td>21.33</td>\n",
       "    </tr>\n",
       "    <tr>\n",
       "      <th>1</th>\n",
       "      <td>514.5</td>\n",
       "      <td>294.0</td>\n",
       "      <td>110.25</td>\n",
       "      <td>7.0</td>\n",
       "      <td>South</td>\n",
       "      <td>0.0</td>\n",
       "      <td>type1</td>\n",
       "      <td>15.55</td>\n",
       "      <td>21.33</td>\n",
       "    </tr>\n",
       "    <tr>\n",
       "      <th>2</th>\n",
       "      <td>514.5</td>\n",
       "      <td>294.0</td>\n",
       "      <td>110.25</td>\n",
       "      <td>7.0</td>\n",
       "      <td>Est</td>\n",
       "      <td>0.0</td>\n",
       "      <td>type1</td>\n",
       "      <td>15.55</td>\n",
       "      <td>21.33</td>\n",
       "    </tr>\n",
       "    <tr>\n",
       "      <th>3</th>\n",
       "      <td>514.5</td>\n",
       "      <td>294.0</td>\n",
       "      <td>110.25</td>\n",
       "      <td>7.0</td>\n",
       "      <td>West</td>\n",
       "      <td>0.0</td>\n",
       "      <td>type1</td>\n",
       "      <td>15.55</td>\n",
       "      <td>21.33</td>\n",
       "    </tr>\n",
       "    <tr>\n",
       "      <th>4</th>\n",
       "      <td>563.5</td>\n",
       "      <td>318.5</td>\n",
       "      <td>122.50</td>\n",
       "      <td>7.0</td>\n",
       "      <td>North</td>\n",
       "      <td>0.0</td>\n",
       "      <td>type1</td>\n",
       "      <td>20.84</td>\n",
       "      <td>28.28</td>\n",
       "    </tr>\n",
       "  </tbody>\n",
       "</table>\n",
       "</div>"
      ],
      "text/plain": [
       "      X2     X3      X4   X5     X6   X7     X8     Y1     Y2\n",
       "0  514.5  294.0  110.25  7.0  North  0.0  type1  15.55  21.33\n",
       "1  514.5  294.0  110.25  7.0  South  0.0  type1  15.55  21.33\n",
       "2  514.5  294.0  110.25  7.0    Est  0.0  type1  15.55  21.33\n",
       "3  514.5  294.0  110.25  7.0   West  0.0  type1  15.55  21.33\n",
       "4  563.5  318.5  122.50  7.0  North  0.0  type1  20.84  28.28"
      ]
     },
     "execution_count": 11,
     "metadata": {},
     "output_type": "execute_result"
    }
   ],
   "source": [
    "# Importation of the data \n",
    "df = pd.read_csv('energy_data.csv', index_col = 0).reset_index(drop = True)\n",
    "df.head()"
   ]
  },
  {
   "cell_type": "code",
   "execution_count": 12,
   "id": "heated-small",
   "metadata": {},
   "outputs": [],
   "source": [
    "def identify_missing(data): \n",
    "    ''' Identify the features missing values NaN\n",
    "    Return list of features with the number of missing values \n",
    "    input = dataframe and print dataframe '''\n",
    "    missing = data.isnull().sum()\n",
    "    missing_result = pd.DataFrame(missing).reset_index().rename(columns = {'index' : 'features', 0 :'missing_nbr'})\n",
    "    missing_result['missing_fraction']=(missing_result.missing_nbr/data.shape[0])*100\n",
    "    print(missing_result)\n",
    "    \n",
    "def information_about_data(data): \n",
    "\t'''numeric features : get the min and the max\n",
    "       categorical features get the nbr of classes\n",
    "       input = a dataframe and prints statistics of columns of this dataframe'''\n",
    "\tprint(\" \")\n",
    "\tprint(\"Numerical features\")\n",
    "\tfor col in data.columns : \n",
    "\t\tif data[col].dtype != 'object' :\n",
    "\t\t\tprint('The feature \"%s\" have a minimum value of %s and a maximum value of %s' % (col,data[col].min(), data[col].max()))\n",
    "\n",
    "\tprint(\" \")\n",
    "\tprint(\"Categorical features\")\n",
    "\tfor col in data.columns : \n",
    "\t\tif data[col].dtype == 'object' :\n",
    "\t\t\tprint('The feature \"%s\" have %s unique values' % (col,len(data[col].unique())))"
   ]
  },
  {
   "cell_type": "code",
   "execution_count": 13,
   "id": "loaded-agreement",
   "metadata": {},
   "outputs": [
    {
     "name": "stdout",
     "output_type": "stream",
     "text": [
      "  features  missing_nbr  missing_fraction\n",
      "0       X2            0               0.0\n",
      "1       X3            0               0.0\n",
      "2       X4            0               0.0\n",
      "3       X5            0               0.0\n",
      "4       X6            0               0.0\n",
      "5       X7            0               0.0\n",
      "6       X8            0               0.0\n",
      "7       Y1            0               0.0\n",
      "8       Y2            0               0.0\n"
     ]
    }
   ],
   "source": [
    "identify_missing(df)"
   ]
  },
  {
   "cell_type": "markdown",
   "id": "greek-google",
   "metadata": {},
   "source": [
    "There is no missing numbers in our data, so no need to think about a way of replaced them"
   ]
  },
  {
   "cell_type": "code",
   "execution_count": 14,
   "id": "dominant-group",
   "metadata": {},
   "outputs": [
    {
     "name": "stdout",
     "output_type": "stream",
     "text": [
      " \n",
      "Numerical features\n",
      "The feature \"X2\" have a minimum value of 514.5 and a maximum value of 808.5\n",
      "The feature \"X3\" have a minimum value of 245.0 and a maximum value of 416.5\n",
      "The feature \"X4\" have a minimum value of 110.25 and a maximum value of 220.5\n",
      "The feature \"X5\" have a minimum value of 3.5 and a maximum value of 7.0\n",
      "The feature \"X7\" have a minimum value of 0.0 and a maximum value of 0.4\n",
      "The feature \"Y1\" have a minimum value of 6.01 and a maximum value of 43.1\n",
      "The feature \"Y2\" have a minimum value of 10.9 and a maximum value of 48.03\n",
      " \n",
      "Categorical features\n",
      "The feature \"X6\" have 4 unique values\n",
      "The feature \"X8\" have 6 unique values\n"
     ]
    }
   ],
   "source": [
    "information_about_data(df)"
   ]
  },
  {
   "cell_type": "markdown",
   "id": "expensive-cooling",
   "metadata": {},
   "source": [
    "As introduce in the data"
   ]
  }
 ],
 "metadata": {
  "kernelspec": {
   "display_name": "Python 3",
   "language": "python",
   "name": "python3"
  },
  "language_info": {
   "codemirror_mode": {
    "name": "ipython",
    "version": 3
   },
   "file_extension": ".py",
   "mimetype": "text/x-python",
   "name": "python",
   "nbconvert_exporter": "python",
   "pygments_lexer": "ipython3",
   "version": "3.8.5"
  }
 },
 "nbformat": 4,
 "nbformat_minor": 5
}
