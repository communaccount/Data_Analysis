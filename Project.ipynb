{
 "cells": [
  {
   "cell_type": "markdown",
   "id": "universal-concern",
   "metadata": {},
   "source": [
    "# Data analysis project : Energy"
   ]
  },
  {
   "cell_type": "markdown",
   "id": "burning-wallet",
   "metadata": {},
   "source": [
    "Written by Julien Samuel, Mayuxiang Chen and Jolan Kerrien"
   ]
  },
  {
   "cell_type": "code",
   "execution_count": 1,
   "id": "pointed-ontario",
   "metadata": {},
   "outputs": [],
   "source": [
    "import numpy as np\n",
    "from scipy import stats\n",
    "import pandas as pd\n",
    "\n",
    "#Ploting librairies:\n",
    "import matplotlib.pyplot as plt\n",
    "import seaborn as sns\n",
    "\n",
    "#linear regression\n",
    "from sklearn.model_selection import train_test_split\n",
    "from sklearn.linear_model import LinearRegression\n",
    "from sklearn.model_selection import cross_val_score\n",
    "from sklearn.linear_model import SGDRegressor\n",
    "from sklearn.metrics import mean_squared_error #r2_score"
   ]
  },
  {
   "cell_type": "markdown",
   "id": "productive-description",
   "metadata": {},
   "source": [
    "## 1) Graphical Representation of all the variables with respect to the target + Computing the correlation"
   ]
  },
  {
   "cell_type": "code",
   "execution_count": 2,
   "id": "talented-kernel",
   "metadata": {},
   "outputs": [
    {
     "data": {
      "text/html": [
       "<div>\n",
       "<style scoped>\n",
       "    .dataframe tbody tr th:only-of-type {\n",
       "        vertical-align: middle;\n",
       "    }\n",
       "\n",
       "    .dataframe tbody tr th {\n",
       "        vertical-align: top;\n",
       "    }\n",
       "\n",
       "    .dataframe thead th {\n",
       "        text-align: right;\n",
       "    }\n",
       "</style>\n",
       "<table border=\"1\" class=\"dataframe\">\n",
       "  <thead>\n",
       "    <tr style=\"text-align: right;\">\n",
       "      <th></th>\n",
       "      <th>X1</th>\n",
       "      <th>X2</th>\n",
       "      <th>X3</th>\n",
       "      <th>X4</th>\n",
       "      <th>X5</th>\n",
       "      <th>X6</th>\n",
       "      <th>X7</th>\n",
       "      <th>X8</th>\n",
       "      <th>Y1</th>\n",
       "      <th>Y2</th>\n",
       "    </tr>\n",
       "  </thead>\n",
       "  <tbody>\n",
       "    <tr>\n",
       "      <th>0</th>\n",
       "      <td>0.98</td>\n",
       "      <td>514.5</td>\n",
       "      <td>294.0</td>\n",
       "      <td>110.25</td>\n",
       "      <td>7.0</td>\n",
       "      <td>North</td>\n",
       "      <td>0.0</td>\n",
       "      <td>type1</td>\n",
       "      <td>15.55</td>\n",
       "      <td>21.33</td>\n",
       "    </tr>\n",
       "    <tr>\n",
       "      <th>1</th>\n",
       "      <td>0.98</td>\n",
       "      <td>514.5</td>\n",
       "      <td>294.0</td>\n",
       "      <td>110.25</td>\n",
       "      <td>7.0</td>\n",
       "      <td>South</td>\n",
       "      <td>0.0</td>\n",
       "      <td>type1</td>\n",
       "      <td>15.55</td>\n",
       "      <td>21.33</td>\n",
       "    </tr>\n",
       "    <tr>\n",
       "      <th>2</th>\n",
       "      <td>0.98</td>\n",
       "      <td>514.5</td>\n",
       "      <td>294.0</td>\n",
       "      <td>110.25</td>\n",
       "      <td>7.0</td>\n",
       "      <td>Est</td>\n",
       "      <td>0.0</td>\n",
       "      <td>type1</td>\n",
       "      <td>15.55</td>\n",
       "      <td>21.33</td>\n",
       "    </tr>\n",
       "    <tr>\n",
       "      <th>3</th>\n",
       "      <td>0.98</td>\n",
       "      <td>514.5</td>\n",
       "      <td>294.0</td>\n",
       "      <td>110.25</td>\n",
       "      <td>7.0</td>\n",
       "      <td>West</td>\n",
       "      <td>0.0</td>\n",
       "      <td>type1</td>\n",
       "      <td>15.55</td>\n",
       "      <td>21.33</td>\n",
       "    </tr>\n",
       "    <tr>\n",
       "      <th>4</th>\n",
       "      <td>0.90</td>\n",
       "      <td>563.5</td>\n",
       "      <td>318.5</td>\n",
       "      <td>122.50</td>\n",
       "      <td>7.0</td>\n",
       "      <td>North</td>\n",
       "      <td>0.0</td>\n",
       "      <td>type1</td>\n",
       "      <td>20.84</td>\n",
       "      <td>28.28</td>\n",
       "    </tr>\n",
       "  </tbody>\n",
       "</table>\n",
       "</div>"
      ],
      "text/plain": [
       "     X1     X2     X3      X4   X5     X6   X7     X8     Y1     Y2\n",
       "0  0.98  514.5  294.0  110.25  7.0  North  0.0  type1  15.55  21.33\n",
       "1  0.98  514.5  294.0  110.25  7.0  South  0.0  type1  15.55  21.33\n",
       "2  0.98  514.5  294.0  110.25  7.0    Est  0.0  type1  15.55  21.33\n",
       "3  0.98  514.5  294.0  110.25  7.0   West  0.0  type1  15.55  21.33\n",
       "4  0.90  563.5  318.5  122.50  7.0  North  0.0  type1  20.84  28.28"
      ]
     },
     "execution_count": 2,
     "metadata": {},
     "output_type": "execute_result"
    }
   ],
   "source": [
    "# Importation of the data \n",
    "df = pd.read_csv('energy_data.csv')\n",
    "df.head()"
   ]
  },
  {
   "cell_type": "markdown",
   "id": "representative-venice",
   "metadata": {},
   "source": [
    "Correspondance of the variable\n",
    "- X1 Relative Compactness\n",
    "- X2 Surface Area\n",
    "- X3 Wall Area\n",
    "- X4 Roof Area\n",
    "- X5 Overall Height\n",
    "- X6 Orientation\n",
    "- X7 Glazing Area\n",
    "- X8 Glazing Area Distribution"
   ]
  },
  {
   "cell_type": "markdown",
   "id": "impaired-vampire",
   "metadata": {},
   "source": [
    "Functions that will help us through our analysis"
   ]
  },
  {
   "cell_type": "code",
   "execution_count": 100,
   "id": "unlikely-thinking",
   "metadata": {},
   "outputs": [],
   "source": [
    "def identify_missing(data): \n",
    "    ''' Identify the features missing values NaN\n",
    "    Return list of features with the number of missing values \n",
    "    input = dataframe and print dataframe '''\n",
    "    missing = data.isnull().sum()\n",
    "    missing_result = pd.DataFrame(missing).reset_index().rename(columns = {'index' : 'features', 0 :'missing_nbr'})\n",
    "    missing_result['missing_fraction']=(missing_result.missing_nbr/data.shape[0])*100\n",
    "    print(missing_result)\n",
    "    \n",
    "def information_about_data(data): \n",
    "    '''numeric features : get the min and the max\n",
    "       categorical features get the nbr of classes\n",
    "       input = a dataframe and prints statistics of columns of this dataframe'''\n",
    "    print(\" \")\n",
    "    print(\"Numerical features\")\n",
    "    for col in data.columns : \n",
    "        if data[col].dtype != 'object' :\n",
    "            print('The feature \"%s\" have a minimum value of %s and a maximum value of %s' % (col,data[col].min(), data[col].max()))\n",
    "\n",
    "    print(\" \")\n",
    "    print(\"Categorical features\")\n",
    "    for col in data.columns : \n",
    "        if data[col].dtype == 'object' :\n",
    "            print('The feature \"%s\" have %s unique values which are %s' % (col,len(data[col].unique()),data[col].unique()))\n",
    "            \n",
    "def Plot(df,Y_value):\n",
    "    for i in [1,2,3,4,5,7]:\n",
    "        plt.plot(df[f'X{i}'],df[f'Y{Y_value}'],'.',label = f'Y{Y_value} (X{i})')\n",
    "        plt.legend()\n",
    "        plt.show()\n",
    "    "
   ]
  },
  {
   "cell_type": "code",
   "execution_count": 101,
   "id": "directed-supervisor",
   "metadata": {},
   "outputs": [
    {
     "name": "stdout",
     "output_type": "stream",
     "text": [
      "  features  missing_nbr  missing_fraction\n",
      "0       X1            0               0.0\n",
      "1       X2            0               0.0\n",
      "2       X3            0               0.0\n",
      "3       X4            0               0.0\n",
      "4       X5            0               0.0\n",
      "5       X6            0               0.0\n",
      "6       X7            0               0.0\n",
      "7       X8            0               0.0\n",
      "8       Y1            0               0.0\n",
      "9       Y2            0               0.0\n"
     ]
    }
   ],
   "source": [
    "identify_missing(df)"
   ]
  },
  {
   "cell_type": "markdown",
   "id": "falling-publisher",
   "metadata": {},
   "source": [
    "There is no missing numbers in our data, so no need to think about a way to replace them"
   ]
  },
  {
   "cell_type": "code",
   "execution_count": 102,
   "id": "central-notion",
   "metadata": {},
   "outputs": [
    {
     "name": "stdout",
     "output_type": "stream",
     "text": [
      " \n",
      "Numerical features\n",
      "The feature \"X1\" have a minimum value of 0.62 and a maximum value of 0.98\n",
      "The feature \"X2\" have a minimum value of 514.5 and a maximum value of 808.5\n",
      "The feature \"X3\" have a minimum value of 245.0 and a maximum value of 416.5\n",
      "The feature \"X4\" have a minimum value of 110.25 and a maximum value of 220.5\n",
      "The feature \"X5\" have a minimum value of 3.5 and a maximum value of 7.0\n",
      "The feature \"X7\" have a minimum value of 0.0 and a maximum value of 0.4\n",
      "The feature \"Y1\" have a minimum value of 6.01 and a maximum value of 43.1\n",
      "The feature \"Y2\" have a minimum value of 10.9 and a maximum value of 48.03\n",
      " \n",
      "Categorical features\n",
      "The feature \"X6\" have 4 unique values which are ['North' 'South' 'Est' 'West']\n",
      "The feature \"X8\" have 6 unique values which are ['type1' 'type2' 'type3' 'type4' 'type5' 'type6']\n"
     ]
    }
   ],
   "source": [
    "information_about_data(df)"
   ]
  },
  {
   "cell_type": "markdown",
   "id": "selective-concern",
   "metadata": {},
   "source": [
    "### Tracer des $X_i$ en fonction de $Y_1$ puis $Y_2$"
   ]
  },
  {
   "cell_type": "code",
   "execution_count": 103,
   "id": "intimate-canberra",
   "metadata": {},
   "outputs": [
    {
     "data": {
      "image/png": "[encoded data removed]",
      "text/plain": [
       "<Figure size 432x288 with 1 Axes>"
      ]
     },
     "metadata": {},
     "output_type": "display_data"
    },
    {
     "data": {
      "image/png": "[encoded data removed]",
      "text/plain": [
       "<Figure size 432x288 with 1 Axes>"
      ]
     },
     "metadata": {},
     "output_type": "display_data"
    },
    {
     "data": {
      "image/png": "[encoded data removed]",
      "text/plain": [
       "<Figure size 432x288 with 1 Axes>"
      ]
     },
     "metadata": {},
     "output_type": "display_data"
    },
    {
     "data": {
      "image/png": "[encoded data removed]",
      "text/plain": [
       "<Figure size 432x288 with 1 Axes>"
      ]
     },
     "metadata": {},
     "output_type": "display_data"
    },
    {
     "data": {
      "image/png": "[encoded data removed]",
      "text/plain": [
       "<Figure size 432x288 with 1 Axes>"
      ]
     },
     "metadata": {},
     "output_type": "display_data"
    },
    {
     "data": {
      "image/png": "[encoded data removed]",
      "text/plain": [
       "<Figure size 432x288 with 1 Axes>"
      ]
     },
     "metadata": {},
     "output_type": "display_data"
    }
   ],
   "source": [
    "Plot(df,1)"
   ]
  },
  {
   "cell_type": "markdown",
   "id": "existing-creation",
   "metadata": {},
   "source": [
    "## 2) Transformation of the categorical variables"
   ]
  },
  {
   "cell_type": "markdown",
   "id": "subtle-coordinate",
   "metadata": {},
   "source": [
    "Julien"
   ]
  },
  {
   "cell_type": "code",
   "execution_count": 3,
   "id": "ordered-provider",
   "metadata": {},
   "outputs": [],
   "source": [
    "def plot_figure(axx,w,h,df):\n",
    "    ''' input = dataframe df , name of column of interest axx , width and height of the graph\n",
    "        we will rotate the ticks of the x axis and ha=right means that \n",
    "        If we imagine a rectangular box around the rotated label, \n",
    "        which side of the rectangle do we want to be aligned with the tickpoint '''\n",
    "    plt.figure(figsize=(w,h))\n",
    "    sns.countplot(df[axx])\n",
    "    plt.xticks(rotation = 30, ha='right')\n",
    "    plt.title(axx + ' distribution')\n",
    "    plt.show()\n",
    "\n",
    "#plot distribution between a categorical value and a numerical value in an histogram via predefined function\n",
    "def plot_figure_num(x_var,groupby_var,w,h, nbr_bins,x_min, x_max,step_x,df,colors):\n",
    "    '''input : name of numerical variable , name of categorical variable ,width,height, \n",
    "               nbr_bins,x_min numeric, x_max numeric,step_x to show ,dataframe'''\n",
    "    #x_var = 'hours-per-week'\n",
    "    #groupby_var = 'income'\n",
    "    df_agg = df.loc[:, [x_var, groupby_var]].groupby(groupby_var)\n",
    "    vals = [df[x_var].values.tolist() for i, df in df_agg]\n",
    "    plt.figure(figsize=(w,h))\n",
    "    n, bins, patches = plt.hist(vals, nbr_bins, stacked=True, color=colors[:len(vals)], edgecolor = 'black') \n",
    "    plt.legend({group:col for group, col in zip(np.unique(df[groupby_var]).tolist(), colors[:len(vals)])})\n",
    "    plt.xlabel(x_var)\n",
    "    plt.ylabel(\"count\")\n",
    "    plt.xticks(np.arange(x_min, x_max, step=step_x))\n",
    "    plt.title(x_var + ' distribution in function of ' + groupby_var)\n",
    "    plt.show()"
   ]
  },
  {
   "cell_type": "code",
   "execution_count": 105,
   "id": "incoming-jersey",
   "metadata": {},
   "outputs": [
    {
     "data": {
      "image/png": "[encoded data removed]",
      "text/plain": [
       "<Figure size 720x576 with 1 Axes>"
      ]
     },
     "metadata": {},
     "output_type": "display_data"
    }
   ],
   "source": [
    "plot_figure_num('Y1','X6',10,8, 20,0, 100,20,df,['steelblue','darkorange','green','yellow'])"
   ]
  },
  {
   "cell_type": "code",
   "execution_count": 106,
   "id": "voluntary-young",
   "metadata": {},
   "outputs": [
    {
     "data": {
      "image/png": "[encoded data removed]",
      "text/plain": [
       "<Figure size 720x576 with 1 Axes>"
      ]
     },
     "metadata": {},
     "output_type": "display_data"
    }
   ],
   "source": [
    "plot_figure_num('Y1','X8',10,8, 20,0, 100,20,df,['steelblue','darkorange','green','yellow','red','black'])"
   ]
  },
  {
   "cell_type": "markdown",
   "id": "tender-surgery",
   "metadata": {},
   "source": [
    "### Transformation of the variable"
   ]
  },
  {
   "cell_type": "markdown",
   "id": "synthetic-ancient",
   "metadata": {},
   "source": [
    "The orientation X6 can be replace by:  \n",
    "North : 1  \n",
    "South : 2  \n",
    "West : 3  \n",
    "Est : 4  \n",
    "The glazing area distribution X8 can be replace by 1,2,3,4,5,6  \n",
    "type 1 : 1  \n",
    "type 2 : 2  \n",
    ".."
   ]
  },
  {
   "cell_type": "code",
   "execution_count": 4,
   "id": "ordinary-nutrition",
   "metadata": {},
   "outputs": [],
   "source": [
    "def transfX6(df):\n",
    "    df_new = df.copy()\n",
    "    list = {\"X6\" : {\"North\":1, \"South\":2, \"West\":3, \"Est\":4}}\n",
    "    df_new = df_new.replace(list)\n",
    "    return df_new\n",
    "\n",
    "def transfX8(df):\n",
    "    df_new = df.copy()\n",
    "    list = {\"X8\" : {\"type1\":1, \"type2\":2, \"type3\":3, \"type4\":4, \"type5\":5, \"type6\":6}}\n",
    "    df_new = df_new.replace(list)\n",
    "    return df_new"
   ]
  },
  {
   "cell_type": "code",
   "execution_count": 5,
   "id": "diagnostic-knock",
   "metadata": {},
   "outputs": [
    {
     "data": {
      "text/html": [
       "<div>\n",
       "<style scoped>\n",
       "    .dataframe tbody tr th:only-of-type {\n",
       "        vertical-align: middle;\n",
       "    }\n",
       "\n",
       "    .dataframe tbody tr th {\n",
       "        vertical-align: top;\n",
       "    }\n",
       "\n",
       "    .dataframe thead th {\n",
       "        text-align: right;\n",
       "    }\n",
       "</style>\n",
       "<table border=\"1\" class=\"dataframe\">\n",
       "  <thead>\n",
       "    <tr style=\"text-align: right;\">\n",
       "      <th></th>\n",
       "      <th>X1</th>\n",
       "      <th>X2</th>\n",
       "      <th>X3</th>\n",
       "      <th>X4</th>\n",
       "      <th>X5</th>\n",
       "      <th>X6</th>\n",
       "      <th>X7</th>\n",
       "      <th>X8</th>\n",
       "      <th>Y1</th>\n",
       "      <th>Y2</th>\n",
       "    </tr>\n",
       "  </thead>\n",
       "  <tbody>\n",
       "    <tr>\n",
       "      <th>0</th>\n",
       "      <td>0.98</td>\n",
       "      <td>514.5</td>\n",
       "      <td>294.0</td>\n",
       "      <td>110.25</td>\n",
       "      <td>7.0</td>\n",
       "      <td>1</td>\n",
       "      <td>0.0</td>\n",
       "      <td>1</td>\n",
       "      <td>15.55</td>\n",
       "      <td>21.33</td>\n",
       "    </tr>\n",
       "    <tr>\n",
       "      <th>1</th>\n",
       "      <td>0.98</td>\n",
       "      <td>514.5</td>\n",
       "      <td>294.0</td>\n",
       "      <td>110.25</td>\n",
       "      <td>7.0</td>\n",
       "      <td>2</td>\n",
       "      <td>0.0</td>\n",
       "      <td>1</td>\n",
       "      <td>15.55</td>\n",
       "      <td>21.33</td>\n",
       "    </tr>\n",
       "    <tr>\n",
       "      <th>2</th>\n",
       "      <td>0.98</td>\n",
       "      <td>514.5</td>\n",
       "      <td>294.0</td>\n",
       "      <td>110.25</td>\n",
       "      <td>7.0</td>\n",
       "      <td>4</td>\n",
       "      <td>0.0</td>\n",
       "      <td>1</td>\n",
       "      <td>15.55</td>\n",
       "      <td>21.33</td>\n",
       "    </tr>\n",
       "    <tr>\n",
       "      <th>3</th>\n",
       "      <td>0.98</td>\n",
       "      <td>514.5</td>\n",
       "      <td>294.0</td>\n",
       "      <td>110.25</td>\n",
       "      <td>7.0</td>\n",
       "      <td>3</td>\n",
       "      <td>0.0</td>\n",
       "      <td>1</td>\n",
       "      <td>15.55</td>\n",
       "      <td>21.33</td>\n",
       "    </tr>\n",
       "    <tr>\n",
       "      <th>4</th>\n",
       "      <td>0.90</td>\n",
       "      <td>563.5</td>\n",
       "      <td>318.5</td>\n",
       "      <td>122.50</td>\n",
       "      <td>7.0</td>\n",
       "      <td>1</td>\n",
       "      <td>0.0</td>\n",
       "      <td>1</td>\n",
       "      <td>20.84</td>\n",
       "      <td>28.28</td>\n",
       "    </tr>\n",
       "  </tbody>\n",
       "</table>\n",
       "</div>"
      ],
      "text/plain": [
       "     X1     X2     X3      X4   X5  X6   X7  X8     Y1     Y2\n",
       "0  0.98  514.5  294.0  110.25  7.0   1  0.0   1  15.55  21.33\n",
       "1  0.98  514.5  294.0  110.25  7.0   2  0.0   1  15.55  21.33\n",
       "2  0.98  514.5  294.0  110.25  7.0   4  0.0   1  15.55  21.33\n",
       "3  0.98  514.5  294.0  110.25  7.0   3  0.0   1  15.55  21.33\n",
       "4  0.90  563.5  318.5  122.50  7.0   1  0.0   1  20.84  28.28"
      ]
     },
     "execution_count": 5,
     "metadata": {},
     "output_type": "execute_result"
    }
   ],
   "source": [
    "X6_num = transfX6(df)\n",
    "X8_num = transfX8(df)\n",
    "\n",
    "df1 = pd.DataFrame(X6_num)\n",
    "df2 = pd.DataFrame(X8_num)\n",
    "df1['X8']=df2['X8']\n",
    "\n",
    "df_num = df1.copy()\n",
    "df_num.head()"
   ]
  },
  {
   "cell_type": "code",
   "execution_count": 6,
   "id": "hidden-handbook",
   "metadata": {},
   "outputs": [
    {
     "data": {
      "text/html": [
       "<div>\n",
       "<style scoped>\n",
       "    .dataframe tbody tr th:only-of-type {\n",
       "        vertical-align: middle;\n",
       "    }\n",
       "\n",
       "    .dataframe tbody tr th {\n",
       "        vertical-align: top;\n",
       "    }\n",
       "\n",
       "    .dataframe thead th {\n",
       "        text-align: right;\n",
       "    }\n",
       "</style>\n",
       "<table border=\"1\" class=\"dataframe\">\n",
       "  <thead>\n",
       "    <tr style=\"text-align: right;\">\n",
       "      <th></th>\n",
       "      <th>mean</th>\n",
       "      <th>Var</th>\n",
       "      <th>Std.Var</th>\n",
       "    </tr>\n",
       "  </thead>\n",
       "  <tbody>\n",
       "    <tr>\n",
       "      <th>X1</th>\n",
       "      <td>0.764167</td>\n",
       "      <td>0.011189</td>\n",
       "      <td>0.105777</td>\n",
       "    </tr>\n",
       "    <tr>\n",
       "      <th>X2</th>\n",
       "      <td>671.708333</td>\n",
       "      <td>7759.163842</td>\n",
       "      <td>88.086116</td>\n",
       "    </tr>\n",
       "    <tr>\n",
       "      <th>X3</th>\n",
       "      <td>318.500000</td>\n",
       "      <td>1903.269883</td>\n",
       "      <td>43.626481</td>\n",
       "    </tr>\n",
       "    <tr>\n",
       "      <th>X4</th>\n",
       "      <td>176.604167</td>\n",
       "      <td>2039.963060</td>\n",
       "      <td>45.165950</td>\n",
       "    </tr>\n",
       "    <tr>\n",
       "      <th>X5</th>\n",
       "      <td>5.250000</td>\n",
       "      <td>3.066493</td>\n",
       "      <td>1.751140</td>\n",
       "    </tr>\n",
       "    <tr>\n",
       "      <th>X6</th>\n",
       "      <td>2.500000</td>\n",
       "      <td>1.251630</td>\n",
       "      <td>1.118763</td>\n",
       "    </tr>\n",
       "    <tr>\n",
       "      <th>X7</th>\n",
       "      <td>0.234375</td>\n",
       "      <td>0.017748</td>\n",
       "      <td>0.133221</td>\n",
       "    </tr>\n",
       "    <tr>\n",
       "      <th>X8</th>\n",
       "      <td>3.812500</td>\n",
       "      <td>2.405476</td>\n",
       "      <td>1.550960</td>\n",
       "    </tr>\n",
       "    <tr>\n",
       "      <th>Y1</th>\n",
       "      <td>22.307201</td>\n",
       "      <td>101.812050</td>\n",
       "      <td>10.090196</td>\n",
       "    </tr>\n",
       "    <tr>\n",
       "      <th>Y2</th>\n",
       "      <td>24.587760</td>\n",
       "      <td>90.502983</td>\n",
       "      <td>9.513306</td>\n",
       "    </tr>\n",
       "  </tbody>\n",
       "</table>\n",
       "</div>"
      ],
      "text/plain": [
       "          mean          Var    Std.Var\n",
       "X1    0.764167     0.011189   0.105777\n",
       "X2  671.708333  7759.163842  88.086116\n",
       "X3  318.500000  1903.269883  43.626481\n",
       "X4  176.604167  2039.963060  45.165950\n",
       "X5    5.250000     3.066493   1.751140\n",
       "X6    2.500000     1.251630   1.118763\n",
       "X7    0.234375     0.017748   0.133221\n",
       "X8    3.812500     2.405476   1.550960\n",
       "Y1   22.307201   101.812050  10.090196\n",
       "Y2   24.587760    90.502983   9.513306"
      ]
     },
     "execution_count": 6,
     "metadata": {},
     "output_type": "execute_result"
    }
   ],
   "source": [
    "## Stats with the numerical values\n",
    "stat = pd.DataFrame()\n",
    "stat['mean'] = df_num.mean()\n",
    "stat['Var'] = df_num.var()\n",
    "stat['Std.Var'] = df_num.std()\n",
    "stat"
   ]
  },
  {
   "cell_type": "markdown",
   "id": "friendly-damages",
   "metadata": {},
   "source": [
    "## 3) Normalize variables"
   ]
  },
  {
   "cell_type": "code",
   "execution_count": 54,
   "id": "rough-disposition",
   "metadata": {},
   "outputs": [
    {
     "data": {
      "text/html": [
       "<div>\n",
       "<style scoped>\n",
       "    .dataframe tbody tr th:only-of-type {\n",
       "        vertical-align: middle;\n",
       "    }\n",
       "\n",
       "    .dataframe tbody tr th {\n",
       "        vertical-align: top;\n",
       "    }\n",
       "\n",
       "    .dataframe thead th {\n",
       "        text-align: right;\n",
       "    }\n",
       "</style>\n",
       "<table border=\"1\" class=\"dataframe\">\n",
       "  <thead>\n",
       "    <tr style=\"text-align: right;\">\n",
       "      <th></th>\n",
       "      <th>X1</th>\n",
       "      <th>X2</th>\n",
       "      <th>X3</th>\n",
       "      <th>X4</th>\n",
       "      <th>X5</th>\n",
       "      <th>X6</th>\n",
       "      <th>X7</th>\n",
       "      <th>X8</th>\n",
       "      <th>Y1</th>\n",
       "      <th>Y2</th>\n",
       "    </tr>\n",
       "  </thead>\n",
       "  <tbody>\n",
       "    <tr>\n",
       "      <th>0</th>\n",
       "      <td>1.000000</td>\n",
       "      <td>0.000000</td>\n",
       "      <td>0.285714</td>\n",
       "      <td>0.000000</td>\n",
       "      <td>1.0</td>\n",
       "      <td>0.000000</td>\n",
       "      <td>0.0</td>\n",
       "      <td>0.0</td>\n",
       "      <td>0.257212</td>\n",
       "      <td>0.280905</td>\n",
       "    </tr>\n",
       "    <tr>\n",
       "      <th>1</th>\n",
       "      <td>1.000000</td>\n",
       "      <td>0.000000</td>\n",
       "      <td>0.285714</td>\n",
       "      <td>0.000000</td>\n",
       "      <td>1.0</td>\n",
       "      <td>0.333333</td>\n",
       "      <td>0.0</td>\n",
       "      <td>0.0</td>\n",
       "      <td>0.257212</td>\n",
       "      <td>0.280905</td>\n",
       "    </tr>\n",
       "    <tr>\n",
       "      <th>2</th>\n",
       "      <td>1.000000</td>\n",
       "      <td>0.000000</td>\n",
       "      <td>0.285714</td>\n",
       "      <td>0.000000</td>\n",
       "      <td>1.0</td>\n",
       "      <td>1.000000</td>\n",
       "      <td>0.0</td>\n",
       "      <td>0.0</td>\n",
       "      <td>0.257212</td>\n",
       "      <td>0.280905</td>\n",
       "    </tr>\n",
       "    <tr>\n",
       "      <th>3</th>\n",
       "      <td>1.000000</td>\n",
       "      <td>0.000000</td>\n",
       "      <td>0.285714</td>\n",
       "      <td>0.000000</td>\n",
       "      <td>1.0</td>\n",
       "      <td>0.666667</td>\n",
       "      <td>0.0</td>\n",
       "      <td>0.0</td>\n",
       "      <td>0.257212</td>\n",
       "      <td>0.280905</td>\n",
       "    </tr>\n",
       "    <tr>\n",
       "      <th>4</th>\n",
       "      <td>0.777778</td>\n",
       "      <td>0.166667</td>\n",
       "      <td>0.428571</td>\n",
       "      <td>0.111111</td>\n",
       "      <td>1.0</td>\n",
       "      <td>0.000000</td>\n",
       "      <td>0.0</td>\n",
       "      <td>0.0</td>\n",
       "      <td>0.399838</td>\n",
       "      <td>0.468085</td>\n",
       "    </tr>\n",
       "  </tbody>\n",
       "</table>\n",
       "</div>"
      ],
      "text/plain": [
       "         X1        X2        X3        X4   X5        X6   X7   X8        Y1  \\\n",
       "0  1.000000  0.000000  0.285714  0.000000  1.0  0.000000  0.0  0.0  0.257212   \n",
       "1  1.000000  0.000000  0.285714  0.000000  1.0  0.333333  0.0  0.0  0.257212   \n",
       "2  1.000000  0.000000  0.285714  0.000000  1.0  1.000000  0.0  0.0  0.257212   \n",
       "3  1.000000  0.000000  0.285714  0.000000  1.0  0.666667  0.0  0.0  0.257212   \n",
       "4  0.777778  0.166667  0.428571  0.111111  1.0  0.000000  0.0  0.0  0.399838   \n",
       "\n",
       "         Y2  \n",
       "0  0.280905  \n",
       "1  0.280905  \n",
       "2  0.280905  \n",
       "3  0.280905  \n",
       "4  0.468085  "
      ]
     },
     "execution_count": 54,
     "metadata": {},
     "output_type": "execute_result"
    }
   ],
   "source": [
    "df_norm = (df_num - df_num.min())/(df_num.max()-df_num.min())\n",
    "#df_norm = (df_num-df_num.mean())/df_num.std()\n",
    "\n",
    "df_norm.head()"
   ]
  },
  {
   "cell_type": "markdown",
   "id": "neural-representative",
   "metadata": {},
   "source": [
    "## 4) Shuffle dataset + split train/test subsets"
   ]
  },
  {
   "cell_type": "markdown",
   "id": "productive-greene",
   "metadata": {},
   "source": [
    "Max"
   ]
  },
  {
   "cell_type": "code",
   "execution_count": 55,
   "id": "worst-visiting",
   "metadata": {},
   "outputs": [
    {
     "name": "stdout",
     "output_type": "stream",
     "text": [
      "(614, 8) (154, 8) (614,) (154,)\n"
     ]
    }
   ],
   "source": [
    "# diviser les variables\n",
    "df_shuffled = df_norm.sample(frac=1).reset_index(drop=True)\n",
    "X_shuff = df_shuffled[['X1', 'X2', 'X3', 'X4','X5','X6','X7','X8']]  #Variables explicatives quantitatives\n",
    "Y_shuff = df_shuffled['Y1']\n",
    "\n",
    "X_train, X_test, Y_train, Y_test = train_test_split(X_shuff, Y_shuff, test_size=0.2)  \n",
    "\n",
    "print(X_train.shape, X_test.shape, Y_train.shape, Y_test.shape)"
   ]
  },
  {
   "cell_type": "markdown",
   "id": "opposite-grove",
   "metadata": {},
   "source": [
    "## 5) Apply multiple linear regression with code seen in the class (vary alpha and nbr of iterations + comment)\n"
   ]
  },
  {
   "cell_type": "markdown",
   "id": "closing-longitude",
   "metadata": {},
   "source": [
    "Jolan"
   ]
  },
  {
   "cell_type": "markdown",
   "id": "pharmaceutical-dairy",
   "metadata": {},
   "source": [
    "In this part, we will do a multilinear regression of Y1 depending on the other explicative variables X1,X2,X3,X4,X5,X6,X7,X8.  \n",
    "$Y_{1_{pred}} = H \\times W$  with H the featured matrix  \n",
    "The regression matrix W will be determined using a gradient descent.  \n",
    "The error (RSS) for different value of iterations and steps will be ploted and commented."
   ]
  },
  {
   "cell_type": "code",
   "execution_count": 56,
   "id": "cloudy-arrival",
   "metadata": {},
   "outputs": [
    {
     "name": "stdout",
     "output_type": "stream",
     "text": [
      "(614, 9) (154, 9) (614, 1) (154, 1)\n"
     ]
    }
   ],
   "source": [
    "#Setting the matrixes\n",
    "\n",
    "ones, ones2 = np.ones([X_train.shape[0],1]), np.ones([X_test.shape[0],1])\n",
    "ones3, ones4 =  np.ones([Y_train.shape[0],1]), np.ones([Y_test.shape[0],1])\n",
    "\n",
    "Y_train2 ,Y_test2 = np.expand_dims(Y_train, axis = 1), np.expand_dims(Y_test,axis = 1)\n",
    "X_train2 , X_test2 = np.concatenate((ones,X_train),axis=1), np.concatenate((ones2,X_test),axis=1)\n",
    "print(X_train2.shape, X_test2.shape, Y_train2.shape, Y_test2.shape)\n",
    "\n",
    "W = np.zeros([1,9])"
   ]
  },
  {
   "cell_type": "code",
   "execution_count": 57,
   "id": "sublime-defensive",
   "metadata": {},
   "outputs": [],
   "source": [
    "#Functions\n",
    "def computeHeatingLoad(X,Y,W):\n",
    "    #return the RSS at a given matrix W\n",
    "    tobesummed = np.power(((X @ W.T)-Y),2)\n",
    "    return np.sum(tobesummed)/(len(X))\n",
    "\n",
    "def gradientDescent(X,Y,W,iters,alpha):\n",
    "    #return the final matrix W and the value of RSS for each iterations\n",
    "    Err = np.zeros(iters)\n",
    "    for i in range(iters):\n",
    "        W = W - (2*alpha/len(X)) * np.sum(X * (X @ W.T - Y), axis=0)\n",
    "        Err[i] = computeHeatingLoad(X, Y, W)\n",
    "    return W,Err"
   ]
  },
  {
   "cell_type": "code",
   "execution_count": 58,
   "id": "studied-rabbit",
   "metadata": {},
   "outputs": [],
   "source": [
    "#Hyper-parameters tested\n",
    "Alpha = [0.0001,0.001,0.01]\n",
    "Iters = [10000,1000,100]\n",
    "#Init\n",
    "ItersF, gitf  = [1 for x in range(len(Alpha)**2)], [1 for x in range(len(Alpha)**2)]\n",
    "\n",
    "#Create a list in which all the errors and regression matrice at a given iteration and a given alpha are filled\n",
    "for i,iters in enumerate(Iters):\n",
    "    for j,alpha in enumerate(Alpha):\n",
    "        gitf[i*len(Iters)+j] , ItersF[i*len(Iters)+j] = gradientDescent(X_train2,Y_train2,W,iters,alpha)"
   ]
  },
  {
   "cell_type": "code",
   "execution_count": 59,
   "id": "bizarre-michael",
   "metadata": {},
   "outputs": [
    {
     "data": {
      "image/png": "[encoded data removed]",
      "text/plain": [
       "<Figure size 432x288 with 1 Axes>"
      ]
     },
     "metadata": {
      "needs_background": "light"
     },
     "output_type": "display_data"
    },
    {
     "data": {
      "image/png": "[encoded data removed]",
      "text/plain": [
       "<Figure size 432x288 with 1 Axes>"
      ]
     },
     "metadata": {
      "needs_background": "light"
     },
     "output_type": "display_data"
    }
   ],
   "source": [
    "#Plot\n",
    "for i in range(3):\n",
    "    plt.plot(np.arange(Iters[1]),ItersF[i+3], label = f'alpha = {Alpha[i]}')\n",
    "    plt.title('Error vs Number of Iteration at fixed iterations = 1000')\n",
    "    plt.xlabel(\"Iterations\")\n",
    "    plt.ylabel(\"Heating Load\")\n",
    "    plt.legend()\n",
    "plt.show()\n",
    "for i in range(3):\n",
    "    plt.plot(np.arange(Iters[i]),ItersF[i*3+1],  label = f'iters = {Iters[i]}')\n",
    "    plt.title('Error vs Number of Iteration at fixed alpha = 0.001')\n",
    "    plt.xlabel(\"Iterations\")\n",
    "    plt.ylabel(\"Heating Load\")\n",
    "    plt.legend()"
   ]
  },
  {
   "cell_type": "code",
   "execution_count": 60,
   "id": "rubber-superintendent",
   "metadata": {},
   "outputs": [
    {
     "data": {
      "text/html": [
       "<div>\n",
       "<style scoped>\n",
       "    .dataframe tbody tr th:only-of-type {\n",
       "        vertical-align: middle;\n",
       "    }\n",
       "\n",
       "    .dataframe tbody tr th {\n",
       "        vertical-align: top;\n",
       "    }\n",
       "\n",
       "    .dataframe thead th {\n",
       "        text-align: right;\n",
       "    }\n",
       "</style>\n",
       "<table border=\"1\" class=\"dataframe\">\n",
       "  <thead>\n",
       "    <tr style=\"text-align: right;\">\n",
       "      <th></th>\n",
       "      <th>Value of alpha</th>\n",
       "      <th>iters = 10000</th>\n",
       "      <th>iters = 1000</th>\n",
       "      <th>iters = 100</th>\n",
       "    </tr>\n",
       "  </thead>\n",
       "  <tbody>\n",
       "    <tr>\n",
       "      <th>0</th>\n",
       "      <td>0.0001</td>\n",
       "      <td>0.018953</td>\n",
       "      <td>0.114857</td>\n",
       "      <td>0.246961</td>\n",
       "    </tr>\n",
       "    <tr>\n",
       "      <th>1</th>\n",
       "      <td>0.0010</td>\n",
       "      <td>0.007693</td>\n",
       "      <td>0.018946</td>\n",
       "      <td>0.114643</td>\n",
       "    </tr>\n",
       "    <tr>\n",
       "      <th>2</th>\n",
       "      <td>0.0100</td>\n",
       "      <td>0.006798</td>\n",
       "      <td>0.007692</td>\n",
       "      <td>0.018879</td>\n",
       "    </tr>\n",
       "  </tbody>\n",
       "</table>\n",
       "</div>"
      ],
      "text/plain": [
       "   Value of alpha  iters = 10000  iters = 1000  iters = 100\n",
       "0          0.0001       0.018953      0.114857     0.246961\n",
       "1          0.0010       0.007693      0.018946     0.114643\n",
       "2          0.0100       0.006798      0.007692     0.018879"
      ]
     },
     "execution_count": 60,
     "metadata": {},
     "output_type": "execute_result"
    }
   ],
   "source": [
    "#Final RSS Heating Load values with alpha or iters fixed\n",
    "HeatingLoad = [computeHeatingLoad(X_train2,Y_train2,g) for g in gitf]\n",
    "Results = pd.DataFrame()\n",
    "Results['Value of alpha'] = Alpha\n",
    "for i,iters in enumerate(Iters):\n",
    "    Results[f'iters = {iters}'] = HeatingLoad[i*3:i*3+3]\n",
    "Results"
   ]
  },
  {
   "cell_type": "code",
   "execution_count": 61,
   "id": "hairy-projector",
   "metadata": {},
   "outputs": [
    {
     "data": {
      "text/html": [
       "<div>\n",
       "<style scoped>\n",
       "    .dataframe tbody tr th:only-of-type {\n",
       "        vertical-align: middle;\n",
       "    }\n",
       "\n",
       "    .dataframe tbody tr th {\n",
       "        vertical-align: top;\n",
       "    }\n",
       "\n",
       "    .dataframe thead th {\n",
       "        text-align: right;\n",
       "    }\n",
       "</style>\n",
       "<table border=\"1\" class=\"dataframe\">\n",
       "  <thead>\n",
       "    <tr style=\"text-align: right;\">\n",
       "      <th></th>\n",
       "      <th>Variable</th>\n",
       "      <th>Coefficient</th>\n",
       "    </tr>\n",
       "  </thead>\n",
       "  <tbody>\n",
       "    <tr>\n",
       "      <th>0</th>\n",
       "      <td>X1</td>\n",
       "      <td>-0.116429</td>\n",
       "    </tr>\n",
       "    <tr>\n",
       "      <th>1</th>\n",
       "      <td>X2</td>\n",
       "      <td>0.027373</td>\n",
       "    </tr>\n",
       "    <tr>\n",
       "      <th>2</th>\n",
       "      <td>X3</td>\n",
       "      <td>0.162705</td>\n",
       "    </tr>\n",
       "    <tr>\n",
       "      <th>3</th>\n",
       "      <td>X4</td>\n",
       "      <td>-0.074596</td>\n",
       "    </tr>\n",
       "    <tr>\n",
       "      <th>4</th>\n",
       "      <td>X5</td>\n",
       "      <td>0.472918</td>\n",
       "    </tr>\n",
       "    <tr>\n",
       "      <th>5</th>\n",
       "      <td>X6</td>\n",
       "      <td>-0.003885</td>\n",
       "    </tr>\n",
       "    <tr>\n",
       "      <th>6</th>\n",
       "      <td>X7</td>\n",
       "      <td>0.217457</td>\n",
       "    </tr>\n",
       "    <tr>\n",
       "      <th>7</th>\n",
       "      <td>X8</td>\n",
       "      <td>0.027190</td>\n",
       "    </tr>\n",
       "  </tbody>\n",
       "</table>\n",
       "</div>"
      ],
      "text/plain": [
       "  Variable  Coefficient\n",
       "0       X1    -0.116429\n",
       "1       X2     0.027373\n",
       "2       X3     0.162705\n",
       "3       X4    -0.074596\n",
       "4       X5     0.472918\n",
       "5       X6    -0.003885\n",
       "6       X7     0.217457\n",
       "7       X8     0.027190"
      ]
     },
     "execution_count": 61,
     "metadata": {},
     "output_type": "execute_result"
    }
   ],
   "source": [
    "#Weight of the variable in the matrix W\n",
    "coef_df = pd.DataFrame()\n",
    "W_new = [W for W in gitf[2]][0]\n",
    "coef_df['Variable'] = ['X1', 'X2', 'X3', 'X4','X5','X6','X7','X8']\n",
    "coef_df['Coefficient'] = W_new[1:]\n",
    "coef_df"
   ]
  },
  {
   "cell_type": "code",
   "execution_count": 62,
   "id": "local-armstrong",
   "metadata": {},
   "outputs": [
    {
     "data": {
      "image/png": "[encoded data removed]",
      "text/plain": [
       "<Figure size 432x288 with 1 Axes>"
      ]
     },
     "metadata": {
      "needs_background": "light"
     },
     "output_type": "display_data"
    }
   ],
   "source": [
    "#Visualisation \n",
    "Y_pred = X_test2 @ W_new.T\n",
    "fig, ax = plt.subplot(2,1)\n",
    "ax[0].plot(X_test['X1'].to_numpy(),Y_pred,'.',linewidth=1.1,label=\"Gradient descent\",color=\"orange\")\n",
    "ax[0].plot(X_test['X1'].to_numpy(),Y_test2,'.',linewidth=1.1,label=\"Test\",color=\"blue\")\n",
    "ax[0].title(\"Validation et prediction\")\n",
    "plt.xlabel('X1')\n",
    "plt.ylabel('Y1')\n",
    "ax[1].plot(X_test['X1'])\n",
    "plt.legend()\n",
    "plt.show()"
   ]
  },
  {
   "cell_type": "code",
   "execution_count": 63,
   "id": "electronic-cambridge",
   "metadata": {},
   "outputs": [
    {
     "name": "stdout",
     "output_type": "stream",
     "text": [
      "Mean Squared Error (MSE): 0.004915155028779525\n",
      "Root Mean Squared Error (RMSE): 0.07010816663399154\n"
     ]
    }
   ],
   "source": [
    "#Calcul de l'erreur sur la prédiction\n",
    "# Erreur quadratique moyenne (MSE)\n",
    "MSE=mean_squared_error(Y_test, Y_pred)\n",
    "print('Mean Squared Error (MSE):',MSE)\n",
    "# Erreur quadratique moyenne carrée (RMSE)\n",
    "print('Root Mean Squared Error (RMSE):',MSE**(1/2))"
   ]
  },
  {
   "cell_type": "markdown",
   "id": "packed-israeli",
   "metadata": {},
   "source": [
    "### Comments"
   ]
  },
  {
   "cell_type": "markdown",
   "id": "exclusive-needle",
   "metadata": {},
   "source": [
    "...  \n",
    "..."
   ]
  },
  {
   "cell_type": "markdown",
   "id": "sacred-kitchen",
   "metadata": {},
   "source": [
    "## 6) Apply the linear regression of Scikit learn library (cf. the code given in class) + vary attributes and compare to question 5"
   ]
  },
  {
   "cell_type": "markdown",
   "id": "ranking-parts",
   "metadata": {},
   "source": [
    "We will still try to do a multilinear regression but using this time the scikit learn library (close to deep learning).  \n",
    "This will allow us to find the optimal solution regarding to train and test variables."
   ]
  },
  {
   "cell_type": "code",
   "execution_count": 67,
   "id": "demographic-coating",
   "metadata": {},
   "outputs": [
    {
     "name": "stdout",
     "output_type": "stream",
     "text": [
      "Coefficient de détermination (R2): 0.9119495572299503\n",
      "     Coefficient\n",
      "X1 -6.179820e-01\n",
      "X2  2.893240e+12\n",
      "X3 -1.687723e+12\n",
      "X4 -2.169930e+12\n",
      "X5  4.008789e-01\n",
      "X6 -3.952026e-03\n",
      "X7  2.186813e-01\n",
      "X8  2.491760e-02\n",
      "Mean Squared Error (MSE): 0.004651711998473596\n",
      "Root Mean Squared Error (RMSE): 0.0682034603115824\n"
     ]
    },
    {
     "data": {
      "image/png": "[encoded data removed]",
      "text/plain": [
       "<Figure size 432x288 with 1 Axes>"
      ]
     },
     "metadata": {
      "needs_background": "light"
     },
     "output_type": "display_data"
    }
   ],
   "source": [
    "#Définition du modèle de régression linéaire multiple \n",
    "reg = LinearRegression().fit(X_train,Y_train)\n",
    "#reg = SGDRegressor().fit(X_train, Y_train)#le modèle de descente de gradient stochastique est ajusté sur les données d'apprentissage avec fit() \n",
    " \n",
    "print('Coefficient de détermination (R2):', reg.score(X_train, Y_train))#Vérification du score de précision du modèle. \n",
    "#Coefficient de détermination (1 est une prédiction parfaite). #r2_score(Y_test, Y_pred) autre fonction.\n",
    "\n",
    "#Coefficient de la régression \n",
    "coeff_df = pd.DataFrame(reg.coef_, X_shuff.columns, columns=['Coefficient'])\n",
    "print(coeff_df) \n",
    "\n",
    "# Predictions utilisant les apprentissages \n",
    "Y_pred = reg.predict(X_test)\n",
    "\n",
    "#Calcul de l'erreur sur la prédiction\n",
    "# Erreur quadratique moyenne (MSE)\n",
    "MSE=mean_squared_error(Y_test, Y_pred)\n",
    "print('Mean Squared Error (MSE):',MSE)\n",
    "# Erreur quadratique moyenne carrée (RMSE)\n",
    "print('Root Mean Squared Error (RMSE):',MSE**(1/2))\n",
    "\n",
    "\n",
    "#Visualisation \n",
    "X_ax=range(len(Y_test))\n",
    "plt.plot(X_test['X1'].to_numpy(),Y_test,'.',linewidth=1,label=\"Test\")\n",
    "plt.plot(X_test['X1'].to_numpy(),Y_pred,'.',linewidth=1.1,label=\"Train\",color=\"orange\")\n",
    "plt.title(\"Validation et prediction\")\n",
    "plt.xlabel('X1')\n",
    "plt.ylabel('Y1')\n",
    "plt.legend()\n",
    "plt.show()"
   ]
  },
  {
   "cell_type": "markdown",
   "id": "unexpected-moldova",
   "metadata": {},
   "source": [
    "## 7) Use python libraries to get p-value of the different coefficients of the variables + Interprete"
   ]
  },
  {
   "cell_type": "markdown",
   "id": "prospective-village",
   "metadata": {},
   "source": [
    "Something like that"
   ]
  },
  {
   "cell_type": "code",
   "execution_count": 52,
   "id": "exceptional-mambo",
   "metadata": {},
   "outputs": [],
   "source": [
    "df_numerical = df_norm.copy()"
   ]
  },
  {
   "cell_type": "code",
   "execution_count": 26,
   "id": "still-playback",
   "metadata": {},
   "outputs": [
    {
     "data": {
      "text/html": [
       "<div>\n",
       "<style scoped>\n",
       "    .dataframe tbody tr th:only-of-type {\n",
       "        vertical-align: middle;\n",
       "    }\n",
       "\n",
       "    .dataframe tbody tr th {\n",
       "        vertical-align: top;\n",
       "    }\n",
       "\n",
       "    .dataframe thead th {\n",
       "        text-align: right;\n",
       "    }\n",
       "</style>\n",
       "<table border=\"1\" class=\"dataframe\">\n",
       "  <thead>\n",
       "    <tr style=\"text-align: right;\">\n",
       "      <th></th>\n",
       "      <th>X1</th>\n",
       "      <th>X2</th>\n",
       "      <th>X3</th>\n",
       "      <th>X4</th>\n",
       "      <th>X5</th>\n",
       "      <th>X6</th>\n",
       "      <th>X7</th>\n",
       "      <th>X8</th>\n",
       "      <th>Y1</th>\n",
       "      <th>Y2</th>\n",
       "    </tr>\n",
       "  </thead>\n",
       "  <tbody>\n",
       "    <tr>\n",
       "      <th>X1</th>\n",
       "      <td>1.000000e+00</td>\n",
       "      <td>-9.919015e-01</td>\n",
       "      <td>-2.037817e-01</td>\n",
       "      <td>-8.688234e-01</td>\n",
       "      <td>8.277473e-01</td>\n",
       "      <td>-1.139375e-17</td>\n",
       "      <td>8.231483e-16</td>\n",
       "      <td>4.129210e-16</td>\n",
       "      <td>0.622272</td>\n",
       "      <td>0.634339</td>\n",
       "    </tr>\n",
       "    <tr>\n",
       "      <th>X2</th>\n",
       "      <td>-9.919015e-01</td>\n",
       "      <td>1.000000e+00</td>\n",
       "      <td>1.955016e-01</td>\n",
       "      <td>8.807195e-01</td>\n",
       "      <td>-8.581477e-01</td>\n",
       "      <td>1.538409e-17</td>\n",
       "      <td>2.465996e-17</td>\n",
       "      <td>-8.644049e-17</td>\n",
       "      <td>-0.658120</td>\n",
       "      <td>-0.672999</td>\n",
       "    </tr>\n",
       "    <tr>\n",
       "      <th>X3</th>\n",
       "      <td>-2.037817e-01</td>\n",
       "      <td>1.955016e-01</td>\n",
       "      <td>1.000000e+00</td>\n",
       "      <td>-2.923165e-01</td>\n",
       "      <td>2.809757e-01</td>\n",
       "      <td>-1.907314e-18</td>\n",
       "      <td>7.026247e-17</td>\n",
       "      <td>4.127441e-17</td>\n",
       "      <td>0.455671</td>\n",
       "      <td>0.427117</td>\n",
       "    </tr>\n",
       "    <tr>\n",
       "      <th>X4</th>\n",
       "      <td>-8.688234e-01</td>\n",
       "      <td>8.807195e-01</td>\n",
       "      <td>-2.923165e-01</td>\n",
       "      <td>1.000000e+00</td>\n",
       "      <td>-9.725122e-01</td>\n",
       "      <td>2.960845e-17</td>\n",
       "      <td>6.020560e-16</td>\n",
       "      <td>5.006229e-16</td>\n",
       "      <td>-0.861828</td>\n",
       "      <td>-0.862547</td>\n",
       "    </tr>\n",
       "    <tr>\n",
       "      <th>X5</th>\n",
       "      <td>8.277473e-01</td>\n",
       "      <td>-8.581477e-01</td>\n",
       "      <td>2.809757e-01</td>\n",
       "      <td>-9.725122e-01</td>\n",
       "      <td>1.000000e+00</td>\n",
       "      <td>-2.531021e-17</td>\n",
       "      <td>1.954489e-17</td>\n",
       "      <td>2.751398e-16</td>\n",
       "      <td>0.889431</td>\n",
       "      <td>0.895785</td>\n",
       "    </tr>\n",
       "    <tr>\n",
       "      <th>X6</th>\n",
       "      <td>-1.139375e-17</td>\n",
       "      <td>1.538409e-17</td>\n",
       "      <td>-1.907314e-18</td>\n",
       "      <td>2.960845e-17</td>\n",
       "      <td>-2.531021e-17</td>\n",
       "      <td>1.000000e+00</td>\n",
       "      <td>4.150394e-16</td>\n",
       "      <td>9.384885e-17</td>\n",
       "      <td>-0.002930</td>\n",
       "      <td>0.003157</td>\n",
       "    </tr>\n",
       "    <tr>\n",
       "      <th>X7</th>\n",
       "      <td>8.231483e-16</td>\n",
       "      <td>2.465996e-17</td>\n",
       "      <td>7.026247e-17</td>\n",
       "      <td>6.020560e-16</td>\n",
       "      <td>1.954489e-17</td>\n",
       "      <td>4.150394e-16</td>\n",
       "      <td>1.000000e+00</td>\n",
       "      <td>2.129642e-01</td>\n",
       "      <td>0.269841</td>\n",
       "      <td>0.207505</td>\n",
       "    </tr>\n",
       "    <tr>\n",
       "      <th>X8</th>\n",
       "      <td>4.129210e-16</td>\n",
       "      <td>-8.644049e-17</td>\n",
       "      <td>4.127441e-17</td>\n",
       "      <td>5.006229e-16</td>\n",
       "      <td>2.751398e-16</td>\n",
       "      <td>9.384885e-17</td>\n",
       "      <td>2.129642e-01</td>\n",
       "      <td>1.000000e+00</td>\n",
       "      <td>0.087368</td>\n",
       "      <td>0.050525</td>\n",
       "    </tr>\n",
       "    <tr>\n",
       "      <th>Y1</th>\n",
       "      <td>6.222722e-01</td>\n",
       "      <td>-6.581202e-01</td>\n",
       "      <td>4.556712e-01</td>\n",
       "      <td>-8.618283e-01</td>\n",
       "      <td>8.894307e-01</td>\n",
       "      <td>-2.929557e-03</td>\n",
       "      <td>2.698410e-01</td>\n",
       "      <td>8.736759e-02</td>\n",
       "      <td>1.000000</td>\n",
       "      <td>0.975862</td>\n",
       "    </tr>\n",
       "    <tr>\n",
       "      <th>Y2</th>\n",
       "      <td>6.343391e-01</td>\n",
       "      <td>-6.729989e-01</td>\n",
       "      <td>4.271170e-01</td>\n",
       "      <td>-8.625466e-01</td>\n",
       "      <td>8.957852e-01</td>\n",
       "      <td>3.156819e-03</td>\n",
       "      <td>2.075050e-01</td>\n",
       "      <td>5.052512e-02</td>\n",
       "      <td>0.975862</td>\n",
       "      <td>1.000000</td>\n",
       "    </tr>\n",
       "  </tbody>\n",
       "</table>\n",
       "</div>"
      ],
      "text/plain": [
       "              X1            X2            X3            X4            X5  \\\n",
       "X1  1.000000e+00 -9.919015e-01 -2.037817e-01 -8.688234e-01  8.277473e-01   \n",
       "X2 -9.919015e-01  1.000000e+00  1.955016e-01  8.807195e-01 -8.581477e-01   \n",
       "X3 -2.037817e-01  1.955016e-01  1.000000e+00 -2.923165e-01  2.809757e-01   \n",
       "X4 -8.688234e-01  8.807195e-01 -2.923165e-01  1.000000e+00 -9.725122e-01   \n",
       "X5  8.277473e-01 -8.581477e-01  2.809757e-01 -9.725122e-01  1.000000e+00   \n",
       "X6 -1.139375e-17  1.538409e-17 -1.907314e-18  2.960845e-17 -2.531021e-17   \n",
       "X7  8.231483e-16  2.465996e-17  7.026247e-17  6.020560e-16  1.954489e-17   \n",
       "X8  4.129210e-16 -8.644049e-17  4.127441e-17  5.006229e-16  2.751398e-16   \n",
       "Y1  6.222722e-01 -6.581202e-01  4.556712e-01 -8.618283e-01  8.894307e-01   \n",
       "Y2  6.343391e-01 -6.729989e-01  4.271170e-01 -8.625466e-01  8.957852e-01   \n",
       "\n",
       "              X6            X7            X8        Y1        Y2  \n",
       "X1 -1.139375e-17  8.231483e-16  4.129210e-16  0.622272  0.634339  \n",
       "X2  1.538409e-17  2.465996e-17 -8.644049e-17 -0.658120 -0.672999  \n",
       "X3 -1.907314e-18  7.026247e-17  4.127441e-17  0.455671  0.427117  \n",
       "X4  2.960845e-17  6.020560e-16  5.006229e-16 -0.861828 -0.862547  \n",
       "X5 -2.531021e-17  1.954489e-17  2.751398e-16  0.889431  0.895785  \n",
       "X6  1.000000e+00  4.150394e-16  9.384885e-17 -0.002930  0.003157  \n",
       "X7  4.150394e-16  1.000000e+00  2.129642e-01  0.269841  0.207505  \n",
       "X8  9.384885e-17  2.129642e-01  1.000000e+00  0.087368  0.050525  \n",
       "Y1 -2.929557e-03  2.698410e-01  8.736759e-02  1.000000  0.975862  \n",
       "Y2  3.156819e-03  2.075050e-01  5.052512e-02  0.975862  1.000000  "
      ]
     },
     "execution_count": 26,
     "metadata": {},
     "output_type": "execute_result"
    }
   ],
   "source": [
    "#get all the regression coefficient\n",
    "corr1 = df_numerical.corr(method = 'pearson')\n",
    "corr2 = df_numerical.corr(method = 'spearman')\n",
    "corr3 = df_numerical.corr(method = 'kendall')\n",
    "corr1"
   ]
  },
  {
   "cell_type": "code",
   "execution_count": 100,
   "id": "popular-semiconductor",
   "metadata": {},
   "outputs": [
    {
     "name": "stdout",
     "output_type": "stream",
     "text": [
      "pearson of (Y1,X1) :  -0.8625466035249744\n",
      "spearman of (Y1,X1) :  -0.8031745820750257\n",
      "kendall of (Y1,X1) :  -0.6056112504280883\n"
     ]
    }
   ],
   "source": [
    "print(f'pearson of (Y1,X1) :  {corr1.iat[3,9]}')\n",
    "print(f'spearman of (Y1,X1) :  {corr2.iat[3,9]}')\n",
    "print(f'kendall of (Y1,X1) :  {corr3.iat[3,9]}')"
   ]
  }
 ],
 "metadata": {
  "kernelspec": {
   "display_name": "Python 3",
   "language": "python",
   "name": "python3"
  },
  "language_info": {
   "codemirror_mode": {
    "name": "ipython",
    "version": 3
   },
   "file_extension": ".py",
   "mimetype": "text/x-python",
   "name": "python",
   "nbconvert_exporter": "python",
   "pygments_lexer": "ipython3",
   "version": "3.8.5"
  }
 },
 "nbformat": 4,
 "nbformat_minor": 5
}
